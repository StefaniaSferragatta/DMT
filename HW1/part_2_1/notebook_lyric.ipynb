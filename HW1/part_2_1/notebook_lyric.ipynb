{
 "cells": [
  {
   "cell_type": "code",
   "execution_count": 2,
   "metadata": {
    "collapsed": true,
    "pycharm": {
     "name": "#%%\n"
    }
   },
   "outputs": [],
   "source": [
    "import pandas as pd\n",
    "import re\n",
    "import random\n",
    "import math\n",
    "import os"
   ]
  },
  {
   "cell_type": "code",
   "execution_count": 2,
   "outputs": [],
   "source": [
    "################################################\n",
    "num_hash_functions = 275 # r = 25 & b = 11\n",
    "upper_bound_on_number_of_distinct_elements  = 10000000\n",
    "#upper_bound_on_number_of_distinct_elements =   138492\n",
    "#upper_bound_on_number_of_distinct_elements =  3746518\n",
    "\n",
    "################################################"
   ],
   "metadata": {
    "collapsed": false,
    "pycharm": {
     "name": "#%%\n"
    }
   }
  },
  {
   "cell_type": "code",
   "execution_count": 3,
   "outputs": [],
   "source": [
    "### primality checker\n",
    "def is_prime(number):\n",
    "\tif number == 2:\n",
    "\t\treturn True\n",
    "\tif (number % 2) == 0:\n",
    "\t\treturn False\n",
    "\tfor j in range(3, int(math.sqrt(number)+1), 2):\n",
    "\t\tif (number % j) == 0:\n",
    "\t\t\treturn False\n",
    "\treturn True"
   ],
   "metadata": {
    "collapsed": false,
    "pycharm": {
     "name": "#%%\n"
    }
   }
  },
  {
   "cell_type": "code",
   "execution_count": 4,
   "outputs": [
    {
     "name": "stdout",
     "output_type": "stream",
     "text": [
      "a\tb\tp\tn\n",
      "4744941\t5373459\t13027051\t10000000\n",
      "2088189\t9459718\t15692437\t10000000\n",
      "4030441\t5271778\t94158901\t10000000\n",
      "6430256\t8121952\t18991879\t10000000\n",
      "464788\t7510281\t41602411\t10000000\n",
      "4942795\t9425470\t61101143\t10000000\n",
      "4165944\t330953\t35216021\t10000000\n",
      "8762548\t3892670\t74494073\t10000000\n",
      "251560\t1852442\t14861603\t10000000\n",
      "9577802\t4554678\t56369543\t10000000\n"
     ]
    }
   ],
   "source": [
    "set_of_all_hash_functions = set()\n",
    "while len(set_of_all_hash_functions) < num_hash_functions:\n",
    "\ta = random.randint(1, upper_bound_on_number_of_distinct_elements-1)\n",
    "\tb = random.randint(0, upper_bound_on_number_of_distinct_elements-1)\n",
    "\tp = random.randint(upper_bound_on_number_of_distinct_elements, 10*upper_bound_on_number_of_distinct_elements)\n",
    "\twhile is_prime(p) == False:\n",
    "\t\tp = random.randint(upper_bound_on_number_of_distinct_elements, 10*upper_bound_on_number_of_distinct_elements)\n",
    "\t#\n",
    "\tcurrent_hash_function_id = tuple([a, b, p])\n",
    "\tset_of_all_hash_functions.add(current_hash_function_id)\n",
    "\n",
    "path_ = os.getcwd()\n",
    "f = open(path_ + '/hash_functions/275.tsv', 'w')\n",
    "f.write(\"a\\tb\\tp\\tn\" + \"\\n\")\n",
    "for a, b, p in set_of_all_hash_functions:\n",
    "\tf.write(str(a) + \"\\t\" + str(b) + \"\\t\" + str(p) + \"\\t\" + str(upper_bound_on_number_of_distinct_elements) + \"\\n\")\n",
    "f.close()"
   ],
   "metadata": {
    "collapsed": false,
    "pycharm": {
     "name": "#%%\n"
    }
   }
  },
  {
   "cell_type": "code",
   "execution_count": 3,
   "outputs": [],
   "source": [
    "# -----------------------------------------------------------------------------\n",
    "# ---------------------------------- my code ----------------------------------\n",
    "# -----------------------------------------------------------------------------\n",
    "\n",
    "# Creating & reading the dataset\n",
    "\n",
    "path_ = os.getcwd()\n",
    "data = pd.read_csv(path_ + \"/dataset/250K_lyrics_from_MetroLyrics.csv\", usecols=['ID', 'lyrics'])\n",
    "data.head()\n",
    "\n",
    "# removing punctuation and converting everything into lowercase\n",
    "data['ELEMENTS_IDS'] = pd.Series(re.sub(r'[^\\w\\s]', '', x.lower()) for x in data['lyrics'])\n",
    "\n",
    "# saving only IDs and lyrics as text columns\n",
    "dataset = data[['ID', 'ELEMENTS_IDS']]"
   ],
   "metadata": {
    "collapsed": false,
    "pycharm": {
     "name": "#%%\n"
    }
   }
  },
  {
   "cell_type": "code",
   "execution_count": 18,
   "outputs": [],
   "source": [
    "# changing the IDs to id_number\n",
    "\n",
    "def get_ids(x):\n",
    "    return 'id_' + str(x)\n",
    "# for num in range(0, len(data['ID'])):\n",
    "#     print('id_' + str(num))"
   ],
   "metadata": {
    "collapsed": false,
    "pycharm": {
     "name": "#%%\n"
    }
   }
  },
  {
   "cell_type": "code",
   "execution_count": 27,
   "outputs": [],
   "source": [
    "# defining shingling\n",
    "def get_my_shing(size, lyric):\n",
    "    shing_list = set()\n",
    "\n",
    "    if len(lyric) >= 3:\n",
    "        for i in range(0, len(lyric)-size+1):\n",
    "            shing_list.add(abs(hash(''.join(lyric[i:i+size])) % (10 ** 8)))\n",
    "    else:\n",
    "        shing_list.add(abs(hash(''.join(lyric[0:len(lyric)])) % (10 ** 8)))\n",
    "    return shing_list"
   ],
   "metadata": {
    "collapsed": false,
    "pycharm": {
     "name": "#%%\n"
    }
   }
  },
  {
   "cell_type": "code",
   "execution_count": 29,
   "outputs": [
    {
     "name": "stderr",
     "output_type": "stream",
     "text": [
      "<ipython-input-29-f8cf58f9e081>:2: SettingWithCopyWarning: \n",
      "A value is trying to be set on a copy of a slice from a DataFrame.\n",
      "Try using .loc[row_indexer,col_indexer] = value instead\n",
      "\n",
      "See the caveats in the documentation: https://pandas.pydata.org/pandas-docs/stable/user_guide/indexing.html#returning-a-view-versus-a-copy\n",
      "  dataset['ELEMENTS_IDS'] = [list(get_my_shing(3, dataset['ELEMENTS_IDS'][i].split())) for i in range(0, len(dataset['ELEMENTS_IDS']))]\n"
     ]
    }
   ],
   "source": [
    "# getting shingles\n",
    "dataset['ELEMENTS_IDS'] = [list(get_my_shing(3, dataset['ELEMENTS_IDS'][i].split())) for i in range(0, len(dataset['ELEMENTS_IDS']))]"
   ],
   "metadata": {
    "collapsed": false,
    "pycharm": {
     "name": "#%%\n"
    }
   }
  },
  {
   "cell_type": "code",
   "execution_count": 30,
   "outputs": [
    {
     "name": "stderr",
     "output_type": "stream",
     "text": [
      "<ipython-input-30-f77a3c19fc4c>:2: SettingWithCopyWarning: \n",
      "A value is trying to be set on a copy of a slice from a DataFrame.\n",
      "Try using .loc[row_indexer,col_indexer] = value instead\n",
      "\n",
      "See the caveats in the documentation: https://pandas.pydata.org/pandas-docs/stable/user_guide/indexing.html#returning-a-view-versus-a-copy\n",
      "  dataset['ID'] = [(get_ids(dataset['ID'][i])) for i in range(0, len(dataset['ID']))]\n"
     ]
    }
   ],
   "source": [
    "# changing IDS to id_ID\n",
    "dataset['ID'] = [(get_ids(dataset['ID'][i])) for i in range(0, len(dataset['ID']))]"
   ],
   "metadata": {
    "collapsed": false,
    "pycharm": {
     "name": "#%%\n"
    }
   }
  },
  {
   "cell_type": "code",
   "execution_count": 31,
   "outputs": [],
   "source": [
    "# exporting dataset shingle\n",
    "\n",
    "dataset.to_csv(path_ + \"/data/dataset_250k.tsv\", sep='\\t', index=False)\n",
    "\n"
   ],
   "metadata": {
    "collapsed": false,
    "pycharm": {
     "name": "#%%\n"
    }
   }
  }
 ],
 "metadata": {
  "kernelspec": {
   "display_name": "Python 3",
   "language": "python",
   "name": "python3"
  },
  "language_info": {
   "codemirror_mode": {
    "name": "ipython",
    "version": 2
   },
   "file_extension": ".py",
   "mimetype": "text/x-python",
   "name": "python",
   "nbconvert_exporter": "python",
   "pygments_lexer": "ipython2",
   "version": "2.7.6"
  }
 },
 "nbformat": 4,
 "nbformat_minor": 0
}