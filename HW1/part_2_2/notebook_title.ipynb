{
 "cells": [
  {
   "cell_type": "code",
   "execution_count": 11,
   "metadata": {
    "collapsed": true
   },
   "outputs": [],
   "source": [
    "\n",
    "import pandas as pd\n",
    "import re\n",
    "import random\n",
    "import math\n",
    "import os"
   ]
  },
  {
   "cell_type": "code",
   "execution_count": 12,
   "outputs": [],
   "source": [
    "################################################\n",
    "num_hash_functions = 275 # r = 25 & b = 11\n",
    "upper_bound_on_number_of_distinct_elements  = 10000000\n",
    "#upper_bound_on_number_of_distinct_elements =   138492\n",
    "#upper_bound_on_number_of_distinct_elements =  3746518\n",
    "\n",
    "################################################"
   ],
   "metadata": {
    "collapsed": false,
    "pycharm": {
     "name": "#%%\n"
    }
   }
  },
  {
   "cell_type": "code",
   "execution_count": 13,
   "outputs": [],
   "source": [
    "### primality checker\n",
    "def is_prime(number):\n",
    "\tif number == 2:\n",
    "\t\treturn True\n",
    "\tif (number % 2) == 0:\n",
    "\t\treturn False\n",
    "\tfor j in range(3, int(math.sqrt(number)+1), 2):\n",
    "\t\tif (number % j) == 0:\n",
    "\t\t\treturn False\n",
    "\treturn True"
   ],
   "metadata": {
    "collapsed": false,
    "pycharm": {
     "name": "#%%\n"
    }
   }
  },
  {
   "cell_type": "code",
   "execution_count": 14,
   "outputs": [
    {
     "name": "stdout",
     "output_type": "stream",
     "text": [
      "a\tb\tp\tn\n",
      "6154476\t7770329\t38217871\t10000000\n",
      "3592599\t3609729\t91040111\t10000000\n",
      "9808988\t5075242\t20939783\t10000000\n",
      "8497872\t6422246\t22754911\t10000000\n",
      "9729602\t6196066\t78050699\t10000000\n",
      "5599773\t5341975\t20469311\t10000000\n",
      "9457051\t2906986\t87776761\t10000000\n",
      "4399528\t7415811\t26675419\t10000000\n",
      "5965643\t3224424\t64159519\t10000000\n",
      "5318908\t234234\t91255777\t10000000\n"
     ]
    }
   ],
   "source": [
    "set_of_all_hash_functions = set()\n",
    "while len(set_of_all_hash_functions) < num_hash_functions:\n",
    "\ta = random.randint(1, upper_bound_on_number_of_distinct_elements-1)\n",
    "\tb = random.randint(0, upper_bound_on_number_of_distinct_elements-1)\n",
    "\tp = random.randint(upper_bound_on_number_of_distinct_elements, 10*upper_bound_on_number_of_distinct_elements)\n",
    "\twhile is_prime(p) == False:\n",
    "\t\tp = random.randint(upper_bound_on_number_of_distinct_elements, 10*upper_bound_on_number_of_distinct_elements)\n",
    "\t#\n",
    "\tcurrent_hash_function_id = tuple([a, b, p])\n",
    "\tset_of_all_hash_functions.add(current_hash_function_id)\n",
    "\n",
    "path_ = os.getcwd()\n",
    "f = open(path_ + '/hash_functions/275.tsv', 'w')\n",
    "f.write(\"a\\tb\\tp\\tn\" + \"\\n\")\n",
    "for a, b, p in set_of_all_hash_functions:\n",
    "\tf.write(str(a) + \"\\t\" + str(b) + \"\\t\" + str(p) + \"\\t\" + str(upper_bound_on_number_of_distinct_elements) + \"\\n\")\n",
    "f.close()"
   ],
   "metadata": {
    "collapsed": false,
    "pycharm": {
     "name": "#%%\n"
    }
   }
  },
  {
   "cell_type": "code",
   "execution_count": 35,
   "outputs": [
    {
     "data": {
      "text/plain": "   ID             song\n0   0        ego-remix\n1   1     then-tell-me\n2   2          honesty\n3   3  you-are-my-rock\n4   4    black-culture",
      "text/html": "<div>\n<style scoped>\n    .dataframe tbody tr th:only-of-type {\n        vertical-align: middle;\n    }\n\n    .dataframe tbody tr th {\n        vertical-align: top;\n    }\n\n    .dataframe thead th {\n        text-align: right;\n    }\n</style>\n<table border=\"1\" class=\"dataframe\">\n  <thead>\n    <tr style=\"text-align: right;\">\n      <th></th>\n      <th>ID</th>\n      <th>song</th>\n    </tr>\n  </thead>\n  <tbody>\n    <tr>\n      <th>0</th>\n      <td>0</td>\n      <td>ego-remix</td>\n    </tr>\n    <tr>\n      <th>1</th>\n      <td>1</td>\n      <td>then-tell-me</td>\n    </tr>\n    <tr>\n      <th>2</th>\n      <td>2</td>\n      <td>honesty</td>\n    </tr>\n    <tr>\n      <th>3</th>\n      <td>3</td>\n      <td>you-are-my-rock</td>\n    </tr>\n    <tr>\n      <th>4</th>\n      <td>4</td>\n      <td>black-culture</td>\n    </tr>\n  </tbody>\n</table>\n</div>"
     },
     "execution_count": 35,
     "metadata": {},
     "output_type": "execute_result"
    }
   ],
   "source": [
    "# -----------------------------------------------------------------------------\n",
    "# ---------------------------------- my code ----------------------------------\n",
    "# -----------------------------------------------------------------------------\n",
    "\n",
    "# Creating & reading the dataset\n",
    "path_ = os.getcwd()\n",
    "data = pd.read_csv(path_ + \"/dataset/250K_lyrics_from_MetroLyrics.csv\", usecols=['ID', 'song'])\n",
    "data.head()\n"
   ],
   "metadata": {
    "collapsed": false,
    "pycharm": {
     "name": "#%%\n"
    }
   }
  },
  {
   "cell_type": "code",
   "execution_count": 36,
   "outputs": [],
   "source": [
    "# removing punctuation and converting everything into lowercase\n",
    "data['ELEMENTS_IDS'] = pd.Series(re.sub(r'[^\\w\\s]', ' ', str(x).lower()) for x in data['song'])\n",
    "\n",
    "# saving only IDs and lyrics as text columns\n",
    "dataset = data[['ID', 'ELEMENTS_IDS']]"
   ],
   "metadata": {
    "collapsed": false,
    "pycharm": {
     "name": "#%%\n"
    }
   }
  },
  {
   "cell_type": "code",
   "execution_count": 41,
   "outputs": [],
   "source": [
    "# changing the IDs to id_number\n",
    "\n",
    "def get_ids(x):\n",
    "    return 'id_' + str(x)\n",
    "# for num in range(0, len(data['ID'])):\n",
    "#     print('id_' + str(num))"
   ],
   "metadata": {
    "collapsed": false,
    "pycharm": {
     "name": "#%%\n"
    }
   }
  },
  {
   "cell_type": "code",
   "execution_count": 38,
   "outputs": [],
   "source": [
    "# defining shingling\n",
    "\n",
    "def get_my_shing(size, title):\n",
    "    shing_list = set()\n",
    "\n",
    "    if len(title) >= 3:\n",
    "        for i in range(0, len(title)-size+1):\n",
    "            shing_list.add(abs(hash(''.join(title[i:i+size])) % (10 ** 8)))\n",
    "    else:\n",
    "        shing_list.add(abs(hash(''.join(title[0:len(title)])) % (10 ** 8)))\n",
    "    return shing_list"
   ],
   "metadata": {
    "collapsed": false,
    "pycharm": {
     "name": "#%%\n"
    }
   }
  },
  {
   "cell_type": "code",
   "execution_count": 39,
   "outputs": [
    {
     "name": "stderr",
     "output_type": "stream",
     "text": [
      "<ipython-input-39-925a749ca8ec>:2: SettingWithCopyWarning: \n",
      "A value is trying to be set on a copy of a slice from a DataFrame.\n",
      "Try using .loc[row_indexer,col_indexer] = value instead\n",
      "\n",
      "See the caveats in the documentation: https://pandas.pydata.org/pandas-docs/stable/user_guide/indexing.html#returning-a-view-versus-a-copy\n",
      "  dataset['text'] = [list(get_my_shing(3, dataset['text'][i].split())) for i in range(0, len(dataset['text']))]\n"
     ]
    }
   ],
   "source": [
    "# getting shingles\n",
    "dataset['ELEMENTS_IDS'] = [list(get_my_shing(3, dataset['ELEMENTS_IDS'][i].split())) for i in range(0, len(dataset['ELEMENTS_IDS']))]"
   ],
   "metadata": {
    "collapsed": false,
    "pycharm": {
     "name": "#%%\n"
    }
   }
  },
  {
   "cell_type": "code",
   "execution_count": 42,
   "outputs": [
    {
     "name": "stderr",
     "output_type": "stream",
     "text": [
      "<ipython-input-42-f77a3c19fc4c>:2: SettingWithCopyWarning: \n",
      "A value is trying to be set on a copy of a slice from a DataFrame.\n",
      "Try using .loc[row_indexer,col_indexer] = value instead\n",
      "\n",
      "See the caveats in the documentation: https://pandas.pydata.org/pandas-docs/stable/user_guide/indexing.html#returning-a-view-versus-a-copy\n",
      "  dataset['ID'] = [(get_ids(dataset['ID'][i])) for i in range(0, len(dataset['ID']))]\n"
     ]
    }
   ],
   "source": [
    "# changing IDS to id_ID\n",
    "dataset['ID'] = [(get_ids(dataset['ID'][i])) for i in range(0, len(dataset['ID']))]"
   ],
   "metadata": {
    "collapsed": false,
    "pycharm": {
     "name": "#%%\n"
    }
   }
  },
  {
   "cell_type": "code",
   "execution_count": 43,
   "outputs": [],
   "source": [
    "# exporting dataset\n",
    "\n",
    "dataset.to_csv(path_ + \"/dataset/dataset_250k_title.tsv\", sep='\\t', index=False)\n",
    "\n",
    "\n"
   ],
   "metadata": {
    "collapsed": false,
    "pycharm": {
     "name": "#%%\n"
    }
   }
  }
 ],
 "metadata": {
  "kernelspec": {
   "display_name": "Python 3",
   "language": "python",
   "name": "python3"
  },
  "language_info": {
   "codemirror_mode": {
    "name": "ipython",
    "version": 2
   },
   "file_extension": ".py",
   "mimetype": "text/x-python",
   "name": "python",
   "nbconvert_exporter": "python",
   "pygments_lexer": "ipython2",
   "version": "2.7.6"
  }
 },
 "nbformat": 4,
 "nbformat_minor": 0
}