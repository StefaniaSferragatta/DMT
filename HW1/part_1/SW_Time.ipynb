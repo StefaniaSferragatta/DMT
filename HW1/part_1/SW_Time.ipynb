{
 "cells": [
  {
   "cell_type": "code",
   "execution_count": 1,
   "metadata": {},
   "outputs": [],
   "source": [
    "from whoosh.index import create_in\n",
    "from whoosh.fields import *\n",
    "from whoosh.analysis import *\n",
    "from whoosh.qparser import *\n",
    "from whoosh import scoring\n",
    "from whoosh import *\n",
    "from whoosh.writing import AsyncWriter\n",
    "import csv\n",
    "import time\n",
    "import os\n",
    "import numpy as np\n",
    "import pandas as pd\n",
    "from bs4 import BeautifulSoup\n",
    "from Eval_metrics import * #my script .py with the implementation of the eval metrics\n",
    "import random"
   ]
  },
  {
   "cell_type": "code",
   "execution_count": 2,
   "metadata": {},
   "outputs": [],
   "source": [
    "def readfile(filename):\n",
    "    tsv_file = open(filename)\n",
    "    read_tsv = csv.reader(tsv_file, delimiter=\"\\t\")\n",
    "    return list(read_tsv)"
   ]
  },
  {
   "cell_type": "code",
   "execution_count": 11,
   "metadata": {},
   "outputs": [],
   "source": [
    "''' Define a function to convert the html file into csv'''\n",
    "def converter():\n",
    "    #path to the html files for the Time_DATASET\n",
    "    path_Time = os.getcwd()+ \"\\part_1\\part_1_1\\Time_DATASET\\DOCUMENTS\\_\" \n",
    "    #initialization of the dataframe for the time csv\n",
    "    time_df=pd.DataFrame(columns=['ID','body']) \n",
    "    #for each doc in the folder Time_DATASET\n",
    "    for j in range(1,423): \n",
    "        #define the file name\n",
    "        filename2=path_Time+'_'*5+str(j)+'.html' \n",
    "        #open the file in reading mode\n",
    "        with open(filename2) as f:\n",
    "            content = f.read() \n",
    "        #use a html parser to pick the content of the file \n",
    "        soup = BeautifulSoup(content, 'html.parser')\n",
    "        # save the body\n",
    "        body=soup.body.string \n",
    "        #store into the dataframe the content. Each row of the document df is a .html file\n",
    "        time_df=time_df.append({'ID':j,'body':body},ignore_index=True) \n",
    "    return time_df"
   ]
  },
  {
   "cell_type": "code",
   "execution_count": 12,
   "metadata": {},
   "outputs": [],
   "source": [
    "# save the doc from Time dataset into csv file format\n",
    "doc_Time_converted = converter()\n",
    "doc_Time_converted.to_csv(os.getcwd()+\"\\part_1\\part_1_1\\Time_DATASET\\Time_to_index.csv\")"
   ]
  },
  {
   "cell_type": "code",
   "execution_count": 26,
   "metadata": {},
   "outputs": [],
   "source": [
    "'''DEFINE THE FIRST PART OF THE SOFTWARE FOR THE SE'''\n",
    "def sw_1(analyzer,filename):\n",
    "    # creating schema with fields id and content\n",
    "    schema = Schema(id=ID(stored=True),content=TEXT(stored=False, analyzer=analyzer))\n",
    "    directory_containing_the_index = os.getcwd()+\"\\part_1\\part_1_1\\Time_DATASET\" \n",
    "    # create an empty-index according to the just defined schema in the directory where csv file is\n",
    "    ix = create_in(directory_containing_the_index, schema) \n",
    "    # open the index file\n",
    "    ix = index.open_dir(directory_containing_the_index) #open the index file \n",
    "    writer =  AsyncWriter(ix) #define a writer object to add content to the fields\n",
    "    # fill the index:\n",
    "    ALL_DOCUMENTS_file_name = filename #path of the file \n",
    "    # open the file\n",
    "    in_file = open(ALL_DOCUMENTS_file_name, \"r\", encoding='latin1')\n",
    "    # read it as csv\n",
    "    csv_reader = csv.reader(in_file, delimiter=',')  \n",
    "    # to skip the header: first line contains the name of each field.\n",
    "    csv_reader.__next__()\n",
    "    # for each row in the 'doc_to_index' file \n",
    "    for record in csv_reader: \n",
    "        id = record[1] # extract the id doc\n",
    "        content = record[2] # extract the body\n",
    "        # add this new doc into the inverted index according to the schema\n",
    "        writer.add_document(id=id, content=' '+content)\n",
    "    # commit all the operations on the file\n",
    "    writer.commit()\n",
    "    # close the file\n",
    "    in_file.close()"
   ]
  },
  {
   "cell_type": "code",
   "execution_count": 27,
   "metadata": {},
   "outputs": [],
   "source": [
    "''' DEFINE THE QUERY ENGINE (THE SECOND PART OF THE SOFTWARE FOR THE SE)'''\n",
    "def sw_2(analyzer,score_fun,input_query,max_number_of_results):\n",
    "    directory_containing_the_index = os.getcwd()+\"\\part_1\\part_1_1\\Time_DATASET\" \n",
    "    # thanks to the ix we can retreive doc of interest for the given SE configurations\n",
    "    ix = index.open_dir(directory_containing_the_index) \n",
    "    # define a QueryParser for parsing the input_query\n",
    "    qp = QueryParser(\"content\", ix.schema)\n",
    "    # apply it on the given query\n",
    "    parsed_query = qp.parse(input_query) \n",
    "    # create a Searcher for the Index with the given scoring function \n",
    "    searcher = ix.searcher(weighting=score_fun) \n",
    "    # store results of the query and limiting max number of results\n",
    "    results = searcher.search(parsed_query,limit=max_number_of_results) \n",
    "    # define a dataframe to store the results \n",
    "    result=pd.DataFrame() \n",
    "    row=pd.DataFrame()\n",
    "    for hit in results:\n",
    "        row=pd.DataFrame([str(hit.rank) , int(hit['id']), str(hit.score)]).T\n",
    "        result=result.append(row)\n",
    "    result.columns=[\"Rank\" , \"Doc_ID\" , \"Score\"] \n",
    "    # the column 'score' contains the values of the scoring function, that we use for having in a quantitative way the relevance of a doc for a particulare query\n",
    "    searcher.close()\n",
    "    return result"
   ]
  },
  {
   "cell_type": "code",
   "execution_count": 29,
   "metadata": {},
   "outputs": [],
   "source": [
    "'''\n",
    "Method that given the specific SE configuration(analyzer,score_fun)\n",
    "executes and returns the results for ALL the queries \n",
    "input:\n",
    "    analyzer - selected text analyzer from the whoosh library\n",
    "    score_fun - selected scoring function from the whoosh library\n",
    "output: result - dataframe with the results of the given SE for ALL the queries; columns of df: [\"Rank\" , \"Doc_ID\" , \"Score\"]\n",
    "''' \n",
    "def executor(analyzer,score_fun):\n",
    "    result1=pd.DataFrame() # dataframe with the results of the given SE for ALL the queries; \n",
    "    tmp1=pd.DataFrame() #tmp dataframe \n",
    "    \n",
    "    # open the file with all the queries\n",
    "    Queries_file1= readfile(r\"C:\\Users\\Stefania\\DMT_HW1\\part_1\\part_1_1\\Time_DATASET\\time_Queries.tsv\")\n",
    "    Queries=pd.DataFrame(Queries_file1[1:],columns=['Query_ID','Query'])\n",
    "    \n",
    "    # open the file of the GT\n",
    "    gt_csv = readfile(r\"C:\\Users\\Stefania\\DMT_HW1\\part_1\\part_1_1\\Time_DATASET\\time_Ground_Truth.tsv\")\n",
    "    gt1 = pd.DataFrame(gt_csv[1:],columns=['Query_id','Relevant_Doc_id'])\n",
    "\n",
    "    #define a list with the unique query ids\n",
    "    Q1=list(gt1['Query_id'].unique()) \n",
    "    dq1={} #key=Query_id, value=number of relevant documents related to that query_id\n",
    "    for i in Q1: # for each query_id\n",
    "        dq1[i]=len(list(gt1[gt1['Query_id']==i]['Relevant_Doc_id']))\n",
    "\n",
    "    file_toindex1=os.getcwd()+\"\\part_1\\part_1_1\\Time_DATASET\\Time_to_index.csv\"\n",
    "    # invoke the function to create the schema and to store the index file based on the retrieved 'doc_to_index.csv' file  \n",
    "    sw_1(analyzer,file_toindex1)\n",
    "    # for each index in the query set\n",
    "    for i in Q1:\n",
    "        # store the number of relevant documents related to the specific input query\n",
    "        max_number_of_results_1q=dq1[i] #count_of_vals(dq,i)\n",
    "        if max_number_of_results_1q==0:\n",
    "            max_number_of_results_1q=1\n",
    "        # invoke the function that,given the input query and given the specific SE configuration,\n",
    "        # returns the results of the search and store it into a tmp dataframe\n",
    "        tmp1=sw_2(analyzer,score_fun,list(Queries[Queries['Query_ID']==i]['Query'])[0],max_number_of_results_1q)\n",
    "        tmp1['Query_id']=i\n",
    "        result1=result1.append(tmp1) #then for each query add it to the result dataframe \n",
    "    return result1"
   ]
  },
  {
   "cell_type": "code",
   "execution_count": 30,
   "metadata": {},
   "outputs": [],
   "source": [
    "# Score based on position (by Whoosh documentation)\n",
    "def pos_score_fn(searcher, fieldname, text, matcher):\n",
    "    poses = matcher.value_as(\"positions\")\n",
    "    return 1.0 / (poses[0] + 1)"
   ]
  },
  {
   "cell_type": "code",
   "execution_count": 31,
   "metadata": {},
   "outputs": [],
   "source": [
    "def search_engine():\n",
    "    # open the ground truth\n",
    "    gt_csv = readfile(r\"C:\\Users\\Stefania\\DMT_HW1\\part_1\\part_1_1\\Time_DATASET\\time_Ground_Truth.tsv\")\n",
    "    gt1 = pd.DataFrame(gt_csv[1:],columns=['Query_id','Relevant_Doc_id'])\n",
    "\n",
    "    list_mrr1=[] # to store the MRR values for each SE configuration \n",
    "    # define the scoring functions\n",
    "    score_functions = [scoring.FunctionWeighting(pos_score_fn),scoring.PL2(),scoring.BM25F(B=0.75, content_B=1.0, K1=1.5)]\n",
    "    # define the text analyzers\n",
    "    analyzers = [StemmingAnalyzer(),FancyAnalyzer(),LanguageAnalyzer('en')]\n",
    "    #combinations for every chosen analyzer with every chosen scoring function\n",
    "    num_analyzers = len(analyzers)\n",
    "    num_score_fun = len(score_functions)\n",
    "    i=1\n",
    "    sel_ana=['StemmingAnalyzer()','FancyAnalyzer()','LanguageAnalyzer()']\n",
    "    scor_func=[' FunctionWeighting',' PL2',' BM25F']\n",
    "    for x in range(num_analyzers):\n",
    "        for y in range(num_score_fun):\n",
    "            print(sel_ana[x]+scor_func[y])\n",
    "            # execute queries with the chosen configuration\n",
    "            sr_1=executor(analyzers[x],score_functions[y]) \n",
    "            #save results of the search engine\n",
    "            sr_1.to_csv(os.getcwd()+\"\\part_1\\part_1_1\\Time_DATASET\"+str(i)+\".csv\",index=False) \n",
    "            \n",
    "            #open the file and compute the MRR\n",
    "            file_sr = open(r\"C:\\Users\\Stefania\\DMT_HW1\\part_1\\part_1_1\\Time_DATASET\"+str(i)+\".csv\")\n",
    "            se_csv = list(csv.reader(file_sr, delimiter=\",\"))\n",
    "            sr = pd.DataFrame(se_csv[1:],columns=['Rank','Doc_ID','Score','Query_id'])\n",
    "            \n",
    "            list_mrr1.append((sel_ana[x]+scor_func[y],MRR(sr,gt1))) \n",
    "            i+=1\n",
    "    # save into a table with MRR evaluation for every search engine configuration \n",
    "    mrrs=pd.DataFrame(list_mrr1)\n",
    "    mrrs.to_csv(os.getcwd()+\"\\part_1\\part_1_1\\Time_DATASET\\mrr.csv\", index=False) #store MRR table"
   ]
  },
  {
   "cell_type": "code",
   "execution_count": 32,
   "metadata": {
    "scrolled": false
   },
   "outputs": [
    {
     "name": "stdout",
     "output_type": "stream",
     "text": [
      "StemmingAnalyzer() FunctionWeighting\n",
      "StemmingAnalyzer() PL2\n",
      "StemmingAnalyzer() BM25F\n",
      "FancyAnalyzer() FunctionWeighting\n",
      "FancyAnalyzer() PL2\n",
      "FancyAnalyzer() BM25F\n",
      "LanguageAnalyzer() FunctionWeighting\n",
      "LanguageAnalyzer() PL2\n",
      "LanguageAnalyzer() BM25F\n"
     ]
    }
   ],
   "source": [
    "# exec the search engine with the different configurations for the Time dataset\n",
    "search_engine()"
   ]
  },
  {
   "cell_type": "code",
   "execution_count": 3,
   "metadata": {},
   "outputs": [],
   "source": [
    "#CREATE THE TABLE OF DISTRIBUTION \n",
    "def r_distribution(num_configuration): # 'num_configuration' to change if the config changes\n",
    "    # compute the r-precision eval metric on the SE config\n",
    "    gt_csv = readfile(r\"C:\\Users\\Stefania\\DMT_HW1\\part_1\\part_1_1\\Time_DATASET\\time_Ground_Truth.tsv\")\n",
    "    gt = pd.DataFrame(gt_csv[1:],columns=['Query_id','Relevant_Doc_id'])\n",
    "    \n",
    "    r_list = []\n",
    "    for i in range(1,num_configuration+1): \n",
    "        #read the SE results for the time dataset\n",
    "        file_se = open(r\"C:\\Users\\Stefania\\DMT_HW1\\part_1\\part_1_1\\Time_DATASET\"+ str(i)+\".csv\")\n",
    "        se_csv = list(csv.reader(file_se, delimiter=\",\"))\n",
    "        sr = pd.DataFrame(se_csv[1:],columns=['Rank','Doc_ID','Score','Query_id'])\n",
    "        \n",
    "        r_list.append(r_precision(sr,gt))\n",
    "    #store the result into a df\n",
    "    R_precision = pd.DataFrame(r_list)\n",
    "    R_precision.index = np.arange(1, len(R_precision)+1) #reset the index and start from 1\n",
    "\n",
    "    # Do the r-precision distribution table for each configuration in the Cranfield dataset\n",
    "    metric= [R_precision.mean(axis=1),R_precision.min(axis=1),R_precision.quantile(0.25,axis=1),R_precision.median(axis=1),R_precision.quantile(0.75,axis=1),R_precision.max(axis=1)]\n",
    "    r_distr = pd.DataFrame(metric).T\n",
    "    #set the cols name\n",
    "    r_distr.columns=['Mean','Min','1°_quartile','Median','3°_quartile','Max']\n",
    "    #add a column to indicate the SE configuration\n",
    "    configs = ['conf_1','conf_2','conf_3','conf_4','conf_5','conf_6','conf_7','conf_8','conf_9']\n",
    "    r_distr['SE_Config'] = configs\n",
    "    r_distri = r_distr[['SE_Config','Mean','Min','1°_quartile','Median','3°_quartile','Max']]\n",
    "    r_distri.index = np.arange(1, len(configs)+1) #reset the index and start from 1\n",
    "    return r_distri\n",
    "\n",
    "#invoke the function and save the df into a csv file\n",
    "r_pr_distr = r_distribution(9) \n",
    "r_pr_distr.to_csv('part_1\\part_1_1\\Time_DATASET\\R_precision_distribution.csv') "
   ]
  },
  {
   "cell_type": "code",
   "execution_count": 4,
   "metadata": {
    "scrolled": true
   },
   "outputs": [
    {
     "data": {
      "text/html": [
       "<div>\n",
       "<style scoped>\n",
       "    .dataframe tbody tr th:only-of-type {\n",
       "        vertical-align: middle;\n",
       "    }\n",
       "\n",
       "    .dataframe tbody tr th {\n",
       "        vertical-align: top;\n",
       "    }\n",
       "\n",
       "    .dataframe thead th {\n",
       "        text-align: right;\n",
       "    }\n",
       "</style>\n",
       "<table border=\"1\" class=\"dataframe\">\n",
       "  <thead>\n",
       "    <tr style=\"text-align: right;\">\n",
       "      <th></th>\n",
       "      <th>SE_Config</th>\n",
       "      <th>Mean</th>\n",
       "      <th>Min</th>\n",
       "      <th>1°_quartile</th>\n",
       "      <th>Median</th>\n",
       "      <th>3°_quartile</th>\n",
       "      <th>Max</th>\n",
       "    </tr>\n",
       "  </thead>\n",
       "  <tbody>\n",
       "    <tr>\n",
       "      <th>1</th>\n",
       "      <td>conf_1</td>\n",
       "      <td>0.276361</td>\n",
       "      <td>0.0</td>\n",
       "      <td>0.0</td>\n",
       "      <td>0.129167</td>\n",
       "      <td>0.500000</td>\n",
       "      <td>1.0</td>\n",
       "    </tr>\n",
       "    <tr>\n",
       "      <th>2</th>\n",
       "      <td>conf_2</td>\n",
       "      <td>0.482691</td>\n",
       "      <td>0.0</td>\n",
       "      <td>0.0</td>\n",
       "      <td>0.500000</td>\n",
       "      <td>0.808333</td>\n",
       "      <td>1.0</td>\n",
       "    </tr>\n",
       "    <tr>\n",
       "      <th>3</th>\n",
       "      <td>conf_3</td>\n",
       "      <td>0.542521</td>\n",
       "      <td>0.0</td>\n",
       "      <td>0.2</td>\n",
       "      <td>0.516667</td>\n",
       "      <td>0.888889</td>\n",
       "      <td>1.0</td>\n",
       "    </tr>\n",
       "    <tr>\n",
       "      <th>4</th>\n",
       "      <td>conf_4</td>\n",
       "      <td>0.279868</td>\n",
       "      <td>0.0</td>\n",
       "      <td>0.0</td>\n",
       "      <td>0.183333</td>\n",
       "      <td>0.500000</td>\n",
       "      <td>1.0</td>\n",
       "    </tr>\n",
       "    <tr>\n",
       "      <th>5</th>\n",
       "      <td>conf_5</td>\n",
       "      <td>0.475147</td>\n",
       "      <td>0.0</td>\n",
       "      <td>0.0</td>\n",
       "      <td>0.500000</td>\n",
       "      <td>0.808333</td>\n",
       "      <td>1.0</td>\n",
       "    </tr>\n",
       "    <tr>\n",
       "      <th>6</th>\n",
       "      <td>conf_6</td>\n",
       "      <td>0.529413</td>\n",
       "      <td>0.0</td>\n",
       "      <td>0.2</td>\n",
       "      <td>0.500000</td>\n",
       "      <td>0.888889</td>\n",
       "      <td>1.0</td>\n",
       "    </tr>\n",
       "    <tr>\n",
       "      <th>7</th>\n",
       "      <td>conf_7</td>\n",
       "      <td>0.270299</td>\n",
       "      <td>0.0</td>\n",
       "      <td>0.0</td>\n",
       "      <td>0.125000</td>\n",
       "      <td>0.500000</td>\n",
       "      <td>1.0</td>\n",
       "    </tr>\n",
       "    <tr>\n",
       "      <th>8</th>\n",
       "      <td>conf_8</td>\n",
       "      <td>0.497671</td>\n",
       "      <td>0.0</td>\n",
       "      <td>0.0</td>\n",
       "      <td>0.500000</td>\n",
       "      <td>0.800000</td>\n",
       "      <td>1.0</td>\n",
       "    </tr>\n",
       "    <tr>\n",
       "      <th>9</th>\n",
       "      <td>conf_9</td>\n",
       "      <td>0.544307</td>\n",
       "      <td>0.0</td>\n",
       "      <td>0.2</td>\n",
       "      <td>0.516667</td>\n",
       "      <td>0.916667</td>\n",
       "      <td>1.0</td>\n",
       "    </tr>\n",
       "  </tbody>\n",
       "</table>\n",
       "</div>"
      ],
      "text/plain": [
       "  SE_Config      Mean  Min  1°_quartile    Median  3°_quartile  Max\n",
       "1    conf_1  0.276361  0.0          0.0  0.129167     0.500000  1.0\n",
       "2    conf_2  0.482691  0.0          0.0  0.500000     0.808333  1.0\n",
       "3    conf_3  0.542521  0.0          0.2  0.516667     0.888889  1.0\n",
       "4    conf_4  0.279868  0.0          0.0  0.183333     0.500000  1.0\n",
       "5    conf_5  0.475147  0.0          0.0  0.500000     0.808333  1.0\n",
       "6    conf_6  0.529413  0.0          0.2  0.500000     0.888889  1.0\n",
       "7    conf_7  0.270299  0.0          0.0  0.125000     0.500000  1.0\n",
       "8    conf_8  0.497671  0.0          0.0  0.500000     0.800000  1.0\n",
       "9    conf_9  0.544307  0.0          0.2  0.516667     0.916667  1.0"
      ]
     },
     "execution_count": 4,
     "metadata": {},
     "output_type": "execute_result"
    }
   ],
   "source": [
    "r_pr_distr"
   ]
  },
  {
   "cell_type": "code",
   "execution_count": 5,
   "metadata": {},
   "outputs": [],
   "source": [
    "# select the top 5 configuration according to the MRR\n",
    "def top_five(mrr):\n",
    "    mrr.index = np.arange(1, len(mrr)+1) #reset a index\n",
    "    top = mrr.sort_values(by = ['MRR'],ascending=False).head(5)\n",
    "    top_five = top.index\n",
    "    return top_five\n",
    "\n",
    "file_MRR = open(r\"C:\\Users\\Stefania\\DMT_HW1\\part_1\\part_1_1\\Time_DATASET\\mrr.csv\")\n",
    "MRR_csv = list(csv.reader(file_MRR, delimiter=\",\"))\n",
    "mrr_time = pd.DataFrame(MRR_csv[1:])\n",
    "mrr_time.columns = ['Config','MRR'] #add cols name\n",
    "mrr_time = mrr_time.astype({\"MRR\": float}) #change type of the column into float\n",
    "top_conf = top_five(mrr_time)\n",
    "top_five = list(top_conf)"
   ]
  },
  {
   "cell_type": "code",
   "execution_count": 6,
   "metadata": {
    "scrolled": true
   },
   "outputs": [
    {
     "data": {
      "text/plain": [
       "[9, 3, 6, 8, 2]"
      ]
     },
     "execution_count": 6,
     "metadata": {},
     "output_type": "execute_result"
    }
   ],
   "source": [
    "top_five"
   ]
  },
  {
   "cell_type": "code",
   "execution_count": 132,
   "metadata": {},
   "outputs": [],
   "source": [
    "#P@k with top 5\n",
    "def p_topfive(top,k):\n",
    "    p_at_k_list =[]\n",
    "    gt_csv = readfile(r\"C:\\Users\\Stefania\\DMT_HW1\\part_1\\part_1_1\\Time_DATASET\\time_Ground_Truth.tsv\")\n",
    "    gt = pd.DataFrame(gt_csv[1:],columns=['Query_id','Relevant_Doc_id'])\n",
    "    \n",
    "    for i in top:\n",
    "        #read the SE results for the time dataset\n",
    "        file_se = open(r\"C:\\Users\\Stefania\\DMT_HW1\\part_1\\part_1_1\\Time_DATASET\"+ str(i)+\".csv\")\n",
    "        se_csv = list(csv.reader(file_se, delimiter=\",\"))\n",
    "        sr = pd.DataFrame(se_csv[1:],columns=['Rank','Doc_ID','Score','Query_id'])\n",
    "        \n",
    "        p_at_k_list.append(p_at_k(sr,gt,k))\n",
    "    return p_at_k_list\n",
    "\n",
    "k_list = [1, 3, 5, 10]\n",
    "output=[]\n",
    "for k in k_list:\n",
    "    output.append(p_topfive(top_five,k))\n",
    "p_at_k_df = pd.DataFrame(output)\n",
    "p_at_k_df.index = k_list\n",
    "p_at_k_df.columns = ['SE_9','SE_3','SE_6','SE_8','SE_2'] #TOP 5 SE configuration"
   ]
  },
  {
   "cell_type": "code",
   "execution_count": 133,
   "metadata": {},
   "outputs": [
    {
     "data": {
      "text/html": [
       "<div>\n",
       "<style scoped>\n",
       "    .dataframe tbody tr th:only-of-type {\n",
       "        vertical-align: middle;\n",
       "    }\n",
       "\n",
       "    .dataframe tbody tr th {\n",
       "        vertical-align: top;\n",
       "    }\n",
       "\n",
       "    .dataframe thead th {\n",
       "        text-align: right;\n",
       "    }\n",
       "</style>\n",
       "<table border=\"1\" class=\"dataframe\">\n",
       "  <thead>\n",
       "    <tr style=\"text-align: right;\">\n",
       "      <th></th>\n",
       "      <th>SE_9</th>\n",
       "      <th>SE_3</th>\n",
       "      <th>SE_6</th>\n",
       "      <th>SE_8</th>\n",
       "      <th>SE_2</th>\n",
       "    </tr>\n",
       "  </thead>\n",
       "  <tbody>\n",
       "    <tr>\n",
       "      <th>1</th>\n",
       "      <td>0.600000</td>\n",
       "      <td>0.600000</td>\n",
       "      <td>0.512500</td>\n",
       "      <td>0.512500</td>\n",
       "      <td>0.512500</td>\n",
       "    </tr>\n",
       "    <tr>\n",
       "      <th>3</th>\n",
       "      <td>0.556250</td>\n",
       "      <td>0.552083</td>\n",
       "      <td>0.535417</td>\n",
       "      <td>0.529167</td>\n",
       "      <td>0.508333</td>\n",
       "    </tr>\n",
       "    <tr>\n",
       "      <th>5</th>\n",
       "      <td>0.562083</td>\n",
       "      <td>0.564583</td>\n",
       "      <td>0.546250</td>\n",
       "      <td>0.515833</td>\n",
       "      <td>0.508333</td>\n",
       "    </tr>\n",
       "    <tr>\n",
       "      <th>10</th>\n",
       "      <td>0.548125</td>\n",
       "      <td>0.546895</td>\n",
       "      <td>0.534415</td>\n",
       "      <td>0.503700</td>\n",
       "      <td>0.489415</td>\n",
       "    </tr>\n",
       "  </tbody>\n",
       "</table>\n",
       "</div>"
      ],
      "text/plain": [
       "        SE_9      SE_3      SE_6      SE_8      SE_2\n",
       "1   0.600000  0.600000  0.512500  0.512500  0.512500\n",
       "3   0.556250  0.552083  0.535417  0.529167  0.508333\n",
       "5   0.562083  0.564583  0.546250  0.515833  0.508333\n",
       "10  0.548125  0.546895  0.534415  0.503700  0.489415"
      ]
     },
     "execution_count": 133,
     "metadata": {},
     "output_type": "execute_result"
    }
   ],
   "source": [
    "p_at_k_df"
   ]
  },
  {
   "cell_type": "code",
   "execution_count": 135,
   "metadata": {
    "scrolled": true
   },
   "outputs": [
    {
     "data": {
      "image/png": "[encoded data removed]",
      "text/plain": [
       "<Figure size 720x720 with 1 Axes>"
      ]
     },
     "metadata": {
      "needs_background": "light"
     },
     "output_type": "display_data"
    }
   ],
   "source": [
    "plot1 = p_at_k_df.plot(y=['SE_9','SE_3','SE_6','SE_8','SE_2'],colormap=\"cool\",\\\n",
    "              xlabel=\"k\", ylabel=\"values\",figsize=(10,10), title = 'P@k plot Time dataset').get_figure();\n",
    "plot1.savefig('Time_p_plot.jpg')"
   ]
  },
  {
   "cell_type": "code",
   "execution_count": 208,
   "metadata": {
    "scrolled": true
   },
   "outputs": [],
   "source": [
    "# normalized Discounted Cumulative Gain (nDCG)\n",
    "def n_dcg(se,gt,k):\n",
    "    rel=0\n",
    "    dcg=0\n",
    "    idcg=0\n",
    "    ndcg=[]\n",
    "    Q=set(gt['Query_id'].unique())\n",
    "    for i in Q:\n",
    "        seID = se['Doc_ID'].loc[se['Query_id'] == i].tolist()\n",
    "        gtID = gt['Relevant_Doc_id'].loc[gt['Query_id'] == i].tolist()\n",
    "        for el in gtID:\n",
    "            for it in seID[:k]:\n",
    "                rel=1 if it==el else 0\n",
    "        for p in range(1,k+1):\n",
    "            dcg+=rel/(math.log2(p+1))\n",
    "            idcg+=1/(math.log2(p+1))\n",
    "        ndcg.append(dcg/idcg)\n",
    "    return (mean(ndcg))"
   ]
  },
  {
   "cell_type": "code",
   "execution_count": 209,
   "metadata": {},
   "outputs": [],
   "source": [
    "#nDCG with top 5\n",
    "def ndcg_topfive(top,k):\n",
    "    ndcg_list =[]\n",
    "    gt_csv = readfile(r\"C:\\Users\\Stefania\\DMT_HW1\\part_1\\part_1_1\\Time_DATASET\\time_Ground_Truth.tsv\")\n",
    "    gt = pd.DataFrame(gt_csv[1:],columns=['Query_id','Relevant_Doc_id'])\n",
    "    \n",
    "    for i in top:\n",
    "        #read the SE results for the time dataset\n",
    "        file_se = open(r\"C:\\Users\\Stefania\\DMT_HW1\\part_1\\part_1_1\\Time_DATASET\"+ str(i)+\".csv\")\n",
    "        se_csv = list(csv.reader(file_se, delimiter=\",\"))\n",
    "        sr = pd.DataFrame(se_csv[1:],columns=['Rank','Doc_ID','Score','Query_id'])\n",
    "        \n",
    "        ndcg_list.append(n_dcg(sr,gt,k))\n",
    "    return ndcg_list\n",
    "\n",
    "k_list = [1, 3, 5, 10]\n",
    "output_ndcg=[]\n",
    "for k in k_list:\n",
    "    output_ndcg.append(ndcg_topfive(top_five,k))\n",
    "ndcg_df = pd.DataFrame(output_ndcg)\n",
    "ndcg_df.index = k_list\n",
    "ndcg_df.columns = ['SE_9','SE_3','SE_6','SE_8','SE_2'] #TOP 5 SE configuration"
   ]
  },
  {
   "cell_type": "code",
   "execution_count": 210,
   "metadata": {},
   "outputs": [
    {
     "data": {
      "text/html": [
       "<div>\n",
       "<style scoped>\n",
       "    .dataframe tbody tr th:only-of-type {\n",
       "        vertical-align: middle;\n",
       "    }\n",
       "\n",
       "    .dataframe tbody tr th {\n",
       "        vertical-align: top;\n",
       "    }\n",
       "\n",
       "    .dataframe thead th {\n",
       "        text-align: right;\n",
       "    }\n",
       "</style>\n",
       "<table border=\"1\" class=\"dataframe\">\n",
       "  <thead>\n",
       "    <tr style=\"text-align: right;\">\n",
       "      <th></th>\n",
       "      <th>SE_9</th>\n",
       "      <th>SE_3</th>\n",
       "      <th>SE_6</th>\n",
       "      <th>SE_8</th>\n",
       "      <th>SE_2</th>\n",
       "    </tr>\n",
       "  </thead>\n",
       "  <tbody>\n",
       "    <tr>\n",
       "      <th>1</th>\n",
       "      <td>0.254257</td>\n",
       "      <td>0.256646</td>\n",
       "      <td>0.278669</td>\n",
       "      <td>0.193926</td>\n",
       "      <td>0.159688</td>\n",
       "    </tr>\n",
       "    <tr>\n",
       "      <th>3</th>\n",
       "      <td>0.283995</td>\n",
       "      <td>0.295565</td>\n",
       "      <td>0.304753</td>\n",
       "      <td>0.256611</td>\n",
       "      <td>0.253632</td>\n",
       "    </tr>\n",
       "    <tr>\n",
       "      <th>5</th>\n",
       "      <td>0.313950</td>\n",
       "      <td>0.294445</td>\n",
       "      <td>0.258723</td>\n",
       "      <td>0.245384</td>\n",
       "      <td>0.231446</td>\n",
       "    </tr>\n",
       "    <tr>\n",
       "      <th>10</th>\n",
       "      <td>0.336029</td>\n",
       "      <td>0.284606</td>\n",
       "      <td>0.280327</td>\n",
       "      <td>0.267464</td>\n",
       "      <td>0.222083</td>\n",
       "    </tr>\n",
       "  </tbody>\n",
       "</table>\n",
       "</div>"
      ],
      "text/plain": [
       "        SE_9      SE_3      SE_6      SE_8      SE_2\n",
       "1   0.254257  0.256646  0.278669  0.193926  0.159688\n",
       "3   0.283995  0.295565  0.304753  0.256611  0.253632\n",
       "5   0.313950  0.294445  0.258723  0.245384  0.231446\n",
       "10  0.336029  0.284606  0.280327  0.267464  0.222083"
      ]
     },
     "execution_count": 210,
     "metadata": {},
     "output_type": "execute_result"
    }
   ],
   "source": [
    "ndcg_df"
   ]
  },
  {
   "cell_type": "code",
   "execution_count": 211,
   "metadata": {},
   "outputs": [
    {
     "data": {
      "image/png": "[encoded data removed]",
      "text/plain": [
       "<Figure size 720x720 with 1 Axes>"
      ]
     },
     "metadata": {
      "needs_background": "light"
     },
     "output_type": "display_data"
    }
   ],
   "source": [
    "plot2 = ndcg_df.plot(y=['SE_9','SE_3','SE_6','SE_8','SE_2'],colormap=\"magma\",\\\n",
    "            xlabel=\"k\", ylabel=\"values\",figsize=(10,10), title = 'nDCG@k plot Time dataset').get_figure();\n",
    "#plot2.savefig('ndcg_plot.jpg')"
   ]
  }
 ],
 "metadata": {
  "kernelspec": {
   "display_name": "Python 3",
   "language": "python",
   "name": "python3"
  },
  "language_info": {
   "codemirror_mode": {
    "name": "ipython",
    "version": 3
   },
   "file_extension": ".py",
   "mimetype": "text/x-python",
   "name": "python",
   "nbconvert_exporter": "python",
   "pygments_lexer": "ipython3",
   "version": "3.9.1"
  }
 },
 "nbformat": 4,
 "nbformat_minor": 4
}
