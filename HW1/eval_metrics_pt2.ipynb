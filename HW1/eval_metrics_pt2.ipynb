{
 "cells": [
  {
   "cell_type": "code",
   "execution_count": 2,
   "metadata": {},
   "outputs": [],
   "source": [
    "import csv\n",
    "import pandas as pd\n",
    "import numpy as np\n",
    "import pylab\n",
    "import matplotlib\n",
    "import math"
   ]
  },
  {
   "cell_type": "code",
   "execution_count": 3,
   "metadata": {},
   "outputs": [],
   "source": [
    "# function to read tsv file\n",
    "def readfile(filename):\n",
    "    tsv_file = open(filename)\n",
    "    read_tsv = csv.reader(tsv_file, delimiter=\"\\t\")\n",
    "    return list(read_tsv)"
   ]
  },
  {
   "cell_type": "code",
   "execution_count": 4,
   "metadata": {},
   "outputs": [],
   "source": [
    "# SE - from list to df\n",
    "se1 = readfile(\"part_1_2__Results_SE_1.tsv\")\n",
    "se_1 = pd.DataFrame(se1[1:],columns=['Query_ID','Doc_ID','Rank']) #convert the SE1 into a dataframe\n",
    "se2 = readfile(\"part_1_2__Results_SE_2.tsv\")\n",
    "se_2 = pd.DataFrame(se2[1:],columns=['Query_ID','Doc_ID','Rank']) #convert the SE2 into a dataframe\n",
    "se3 = readfile(\"part_1_2__Results_SE_3.tsv\")\n",
    "se_3 = pd.DataFrame(se3[1:],columns=['Query_ID','Doc_ID','Rank']) #convert the SE3 into a dataframe\n",
    "# GT - from list to df\n",
    "gt = readfile(\"part_1_2__Ground_Truth.tsv\")\n",
    "ground_truth = pd.DataFrame(gt[1:],columns=['Query_ID','Relevant_Doc_id']) #convert the gt list into dataframe in order to extract the items in the col 'Query_id'"
   ]
  },
  {
   "cell_type": "code",
   "execution_count": 22,
   "metadata": {},
   "outputs": [],
   "source": [
    "# P@k \n",
    "def p_at_k(sr,gt,k):\n",
    "    #n_query = sr1['Query_id'].max()\n",
    "    Q=set(sr['Query_ID'])\n",
    "    for i in Q:#range(1, n_query+1):\n",
    "        # filter the rows of the df with QUERY_ID = i\n",
    "        seID = sr['Doc_ID'].loc[sr['Query_ID'] == i].tolist()\n",
    "        gtID = gt['Relevant_Doc_id'].loc[gt['Query_ID'] == i].tolist()\n",
    "        #because not all queries are considered in the Ground Truth CSV\n",
    "        if len(gtID) == 0:\n",
    "            continue\n",
    "        numerator = sum(el in seID for el in gtID) #do the summation of the relevant doc in the SE\n",
    "        denominator = min(k,len(gtID))\n",
    "    return (numerator/denominator)"
   ]
  },
  {
   "cell_type": "code",
   "execution_count": 23,
   "metadata": {},
   "outputs": [
    {
     "data": {
      "text/plain": [
       "1.0"
      ]
     },
     "execution_count": 23,
     "metadata": {},
     "output_type": "execute_result"
    }
   ],
   "source": [
    "p_at_k(se_1,ground_truth,9)"
   ]
  },
  {
   "cell_type": "code",
   "execution_count": 14,
   "metadata": {},
   "outputs": [
    {
     "data": {
      "text/plain": [
       "1.0"
      ]
     },
     "execution_count": 14,
     "metadata": {},
     "output_type": "execute_result"
    }
   ],
   "source": [
    "p_at_k(se_2,ground_truth,9)"
   ]
  },
  {
   "cell_type": "code",
   "execution_count": 15,
   "metadata": {},
   "outputs": [
    {
     "data": {
      "text/plain": [
       "1.0"
      ]
     },
     "execution_count": 15,
     "metadata": {},
     "output_type": "execute_result"
    }
   ],
   "source": [
    "p_at_k(se_3,ground_truth,9)"
   ]
  },
  {
   "cell_type": "code",
   "execution_count": 32,
   "metadata": {},
   "outputs": [],
   "source": [
    "# R-precision\n",
    "def r_precision(se, gt):\n",
    "    #r_pre=[]\n",
    "    #n_query = se['Query_id'].max()\n",
    "    Q=set(gt['Query_ID'].unique())\n",
    "    for i in Q:#range (1, n_query+1):\n",
    "        seID = se['Doc_ID'].loc[se['Query_ID'] == i].tolist()\n",
    "        gtID = gt['Relevant_Doc_id'].loc[gt['Query_ID'] == i].tolist()\n",
    "        # because not all queries are considered in the Ground Truth CSV\n",
    "        if len(gtID) == 0:\n",
    "            continue\n",
    "        num = sum(el in seID for el in gtID) #do the summation of the relevant doc in the SEengine\n",
    "        r = num/(len(gtID))\n",
    "        #r_pre.append(r)\n",
    "    return (r)"
   ]
  },
  {
   "cell_type": "code",
   "execution_count": 33,
   "metadata": {},
   "outputs": [
    {
     "data": {
      "text/plain": [
       "1.0"
      ]
     },
     "execution_count": 33,
     "metadata": {},
     "output_type": "execute_result"
    }
   ],
   "source": [
    "r_precision(se_1, ground_truth)"
   ]
  },
  {
   "cell_type": "code",
   "execution_count": 34,
   "metadata": {},
   "outputs": [
    {
     "data": {
      "text/plain": [
       "1.0"
      ]
     },
     "execution_count": 34,
     "metadata": {},
     "output_type": "execute_result"
    }
   ],
   "source": [
    "r_precision(se_2, ground_truth)"
   ]
  },
  {
   "cell_type": "code",
   "execution_count": 35,
   "metadata": {},
   "outputs": [
    {
     "data": {
      "text/plain": [
       "1.0"
      ]
     },
     "execution_count": 35,
     "metadata": {},
     "output_type": "execute_result"
    }
   ],
   "source": [
    "r_precision(se_3, ground_truth)"
   ]
  },
  {
   "cell_type": "code",
   "execution_count": 30,
   "metadata": {},
   "outputs": [],
   "source": [
    "# normalized Discounted Cumulative Gain (nDCG)\n",
    "def n_dcg(se,gt,k):\n",
    "    result = 0\n",
    "    #n_query = se['Query_id'].max()\n",
    "    #for i in range(1,n_query+1):\n",
    "    Q=set(gt['Query_ID'].unique()) #number of unique queries in the ground truth\n",
    "    for i in Q:\n",
    "        top_result = pd.DataFrame()\n",
    "        # get top k relevant docs from the SE1\n",
    "        top_se = se[['Doc_ID', 'Rank']][:k]\n",
    "        top_gt = gt[['Relevant_Doc_id']][:k]\n",
    "        # store into top_result only relevant docs\n",
    "        top_result = top_gt.merge(top_se, how='inner', left_on='Relevant_Doc_id', right_on='Doc_ID') \n",
    "        # (every element in the list has relevance = 1)\n",
    "        rank = top_result['Rank'].tolist() # store into a list the ranks\n",
    "        ranks = [int(i) for i in rank] #convert into int\n",
    "        # compute the discounted cumulative gain\n",
    "        dcg = 0\n",
    "        for i in ranks: #if the query id is in the GT than relevance = 1\n",
    "            dcg += 1/(math.log2(i+2))\n",
    "        # compute the ideal discounted cumulative gain\n",
    "        idcg = 0\n",
    "        for j in range(1, k+1):\n",
    "            idcg += 1/(math.log2(j+2))\n",
    "        return (dcg/idcg)"
   ]
  },
  {
   "cell_type": "code",
   "execution_count": 31,
   "metadata": {},
   "outputs": [
    {
     "data": {
      "text/plain": [
       "0.21560522020745643"
      ]
     },
     "execution_count": 31,
     "metadata": {},
     "output_type": "execute_result"
    }
   ],
   "source": [
    "n_dcg(se_1,ground_truth,9)"
   ]
  },
  {
   "cell_type": "code",
   "execution_count": 36,
   "metadata": {},
   "outputs": [
    {
     "data": {
      "text/plain": [
       "0.08157471026683315"
      ]
     },
     "execution_count": 36,
     "metadata": {},
     "output_type": "execute_result"
    }
   ],
   "source": [
    "n_dcg(se_2,ground_truth,9)"
   ]
  },
  {
   "cell_type": "code",
   "execution_count": 37,
   "metadata": {},
   "outputs": [
    {
     "data": {
      "text/plain": [
       "0.2670745823795745"
      ]
     },
     "execution_count": 37,
     "metadata": {},
     "output_type": "execute_result"
    }
   ],
   "source": [
    "n_dcg(se_3,ground_truth,9)"
   ]
  },
  {
   "cell_type": "code",
   "execution_count": 43,
   "metadata": {},
   "outputs": [],
   "source": [
    "# Mean Reciprocal Rank (MRR)\n",
    "def MRR(sr1,gt):\n",
    "    mrr=0\n",
    "    rel_doc_ids=list() #list to store the relevant doc_ids for every query id in Q\n",
    "    dd_se= {} \n",
    "    dd_gt= {} \n",
    "    Q=set(gt['Query_ID'].unique()) #number of unique queries in the ground truth\n",
    "    for i in Q:\n",
    "        #key=Query_id,value=list of document ids from SE result\n",
    "        dd_se[i]=list(sr1[sr1['Query_ID']==i]['Doc_ID'])\n",
    "    for i in Q:\n",
    "        #key=Query_id,value=list of relevant document ids from ground truth\n",
    "        dd_gt[i]=list(gt[gt['Query_ID']==i]['Relevant_Doc_id'])\n",
    "    \n",
    "    for q in Q: \n",
    "        rel_doc_ids=dd_gt[q]\n",
    "        #for each doc_id in query_id q\n",
    "        for i in range(len(dd_se[q])): \n",
    "            #if doc_id is in the list of the relevant doc_ids \n",
    "            if dd_se[q][i] in rel_doc_ids: #[i] is index of list\n",
    "                mrr=mrr+(1/(i+1)) #MRR value is sum on Reciprocal Ranks (+1 cause ranking starts with 1)\n",
    "                break #once we get the first doc id from the relevant doc ids in the GT, we can stop\n",
    "    mrr=mrr/(len(Q)) #compute the avg of the sum of reciprocal ranks\n",
    "    return mrr\n"
   ]
  },
  {
   "cell_type": "code",
   "execution_count": 44,
   "metadata": {},
   "outputs": [
    {
     "data": {
      "text/plain": [
       "0.49819410801065533"
      ]
     },
     "execution_count": 44,
     "metadata": {},
     "output_type": "execute_result"
    }
   ],
   "source": [
    "MRR(se_1, ground_truth)"
   ]
  },
  {
   "cell_type": "code",
   "execution_count": 45,
   "metadata": {},
   "outputs": [
    {
     "data": {
      "text/plain": [
       "0.4168479516002677"
      ]
     },
     "execution_count": 45,
     "metadata": {},
     "output_type": "execute_result"
    }
   ],
   "source": [
    "MRR(se_2, ground_truth)"
   ]
  },
  {
   "cell_type": "code",
   "execution_count": 46,
   "metadata": {},
   "outputs": [
    {
     "data": {
      "text/plain": [
       "1.0"
      ]
     },
     "execution_count": 46,
     "metadata": {},
     "output_type": "execute_result"
    }
   ],
   "source": [
    "r_precision(se_3, ground_truth)"
   ]
  }
 ],
 "metadata": {
  "kernelspec": {
   "display_name": "Python 3",
   "language": "python",
   "name": "python3"
  },
  "language_info": {
   "codemirror_mode": {
    "name": "ipython",
    "version": 3
   },
   "file_extension": ".py",
   "mimetype": "text/x-python",
   "name": "python",
   "nbconvert_exporter": "python",
   "pygments_lexer": "ipython3",
   "version": "3.9.1"
  }
 },
 "nbformat": 4,
 "nbformat_minor": 4
}
