{
 "cells": [
  {
   "cell_type": "code",
   "execution_count": 3,
   "metadata": {},
   "outputs": [],
   "source": [
    "import csv\n",
    "import pandas as pd\n",
    "import numpy as np\n",
    "import pylab\n",
    "import matplotlib\n",
    "import math\n",
    "from statistics import mean"
   ]
  },
  {
   "cell_type": "code",
   "execution_count": 4,
   "metadata": {},
   "outputs": [],
   "source": [
    "# function to read tsv file\n",
    "def readfile(filename):\n",
    "    tsv_file = open(filename)\n",
    "    read_tsv = csv.reader(tsv_file, delimiter=\"\\t\")\n",
    "    return list(read_tsv)"
   ]
  },
  {
   "cell_type": "code",
   "execution_count": 5,
   "metadata": {},
   "outputs": [],
   "source": [
    "# SE - from list to df\n",
    "se1 = readfile(\"part_1_2__Results_SE_1.tsv\")\n",
    "se_1 = pd.DataFrame(se1[1:],columns=['Query_ID','Doc_ID','Rank']) #convert the SE1 into a dataframe\n",
    "se2 = readfile(\"part_1_2__Results_SE_2.tsv\")\n",
    "se_2 = pd.DataFrame(se2[1:],columns=['Query_ID','Doc_ID','Rank']) #convert the SE2 into a dataframe\n",
    "se3 = readfile(\"part_1_2__Results_SE_3.tsv\")\n",
    "se_3 = pd.DataFrame(se3[1:],columns=['Query_ID','Doc_ID','Rank']) #convert the SE3 into a dataframe\n",
    "# GT - from list to df\n",
    "gt = readfile(\"part_1_2__Ground_Truth.tsv\")\n",
    "ground_truth = pd.DataFrame(gt[1:],columns=['Query_ID','Relevant_Doc_id']) #convert the gt list into dataframe in order to extract the items in the col 'Query_id'"
   ]
  },
  {
   "cell_type": "code",
   "execution_count": 8,
   "metadata": {},
   "outputs": [],
   "source": [
    "#function used in P@k \n",
    "def relevant_docs(search_engine,ground_truth,k):\n",
    "    rel_doc = 0\n",
    "    for i in search_engine[:k]:\n",
    "        for j in ground_truth:\n",
    "            if i==j:\n",
    "                rel_doc +=1\n",
    "    return rel_doc\n",
    "\n",
    "# P@k \n",
    "def p_at_k(se,gt,k):\n",
    "    p_list = []\n",
    "    Q=set(gt['Query_ID'].unique())\n",
    "    for i in Q:\n",
    "        seID = se['Doc_ID'].loc[se['Query_ID'] == i].tolist()\n",
    "        gtID = gt['Relevant_Doc_id'].loc[gt['Query_ID'] == i].tolist()\n",
    "        num = relevant_docs(seID,gtID,k) # numerator\n",
    "        den = min(k,len(gtID)) # denominator\n",
    "        p_list.append(num/den)\n",
    "    return (mean(p_list))"
   ]
  },
  {
   "cell_type": "code",
   "execution_count": 9,
   "metadata": {},
   "outputs": [
    {
     "data": {
      "text/plain": [
       "0.43659010742344073"
      ]
     },
     "execution_count": 9,
     "metadata": {},
     "output_type": "execute_result"
    }
   ],
   "source": [
    "p_at_k(se_1,ground_truth,9)"
   ]
  },
  {
   "cell_type": "code",
   "execution_count": 10,
   "metadata": {},
   "outputs": [
    {
     "data": {
      "text/plain": [
       "0.3374899791566458"
      ]
     },
     "execution_count": 10,
     "metadata": {},
     "output_type": "execute_result"
    }
   ],
   "source": [
    "p_at_k(se_2,ground_truth,9)"
   ]
  },
  {
   "cell_type": "code",
   "execution_count": 11,
   "metadata": {},
   "outputs": [
    {
     "data": {
      "text/plain": [
       "0.4212281545614879"
      ]
     },
     "execution_count": 11,
     "metadata": {},
     "output_type": "execute_result"
    }
   ],
   "source": [
    "p_at_k(se_3,ground_truth,9)"
   ]
  },
  {
   "cell_type": "code",
   "execution_count": 12,
   "metadata": {},
   "outputs": [],
   "source": [
    "# r precision \n",
    "def r_precision(se,gt):\n",
    "    r_list = []\n",
    "    k = len(gt)\n",
    "    Q=set(gt['Query_ID'].unique())\n",
    "    for i in Q:\n",
    "        seID = se['Doc_ID'].loc[se['Query_ID'] == i].tolist()\n",
    "        gtID = gt['Relevant_Doc_id'].loc[gt['Query_ID'] == i].tolist()\n",
    "        num = relevant_docs(seID,gtID,k) # numerator\n",
    "        den = len(gtID) # denominator\n",
    "        r_list.append(num/den)\n",
    "    return (mean(r_list))"
   ]
  },
  {
   "cell_type": "code",
   "execution_count": 13,
   "metadata": {},
   "outputs": [
    {
     "data": {
      "text/plain": [
       "0.8399094133158919"
      ]
     },
     "execution_count": 13,
     "metadata": {},
     "output_type": "execute_result"
    }
   ],
   "source": [
    "r_precision(se_1, ground_truth)"
   ]
  },
  {
   "cell_type": "code",
   "execution_count": 14,
   "metadata": {},
   "outputs": [
    {
     "data": {
      "text/plain": [
       "0.7871965871312788"
      ]
     },
     "execution_count": 14,
     "metadata": {},
     "output_type": "execute_result"
    }
   ],
   "source": [
    "r_precision(se_2, ground_truth)"
   ]
  },
  {
   "cell_type": "code",
   "execution_count": 15,
   "metadata": {},
   "outputs": [
    {
     "data": {
      "text/plain": [
       "0.8305983791354742"
      ]
     },
     "execution_count": 15,
     "metadata": {},
     "output_type": "execute_result"
    }
   ],
   "source": [
    "r_precision(se_3, ground_truth)"
   ]
  },
  {
   "cell_type": "code",
   "execution_count": 18,
   "metadata": {},
   "outputs": [],
   "source": [
    "def n_dcg(se,gt,k):\n",
    "    rel=0\n",
    "    dcg=0\n",
    "    idcg=0\n",
    "    ndcg=[]\n",
    "    Q=set(gt['Query_ID'].unique())\n",
    "    for i in Q:\n",
    "        seID = se['Doc_ID'].loc[se['Query_ID'] == i].tolist()\n",
    "        gtID = gt['Relevant_Doc_id'].loc[gt['Query_ID'] == i].tolist()\n",
    "        for el in gtID:\n",
    "            for it in seID[:k]:\n",
    "                rel=1 if it==el else 0\n",
    "        for p in range(1,k+1):\n",
    "            dcg+=rel/(math.log2(p+1))\n",
    "            idcg+=1/(math.log2(p+1))\n",
    "        ndcg.append(dcg/idcg)\n",
    "    return (mean(ndcg))"
   ]
  },
  {
   "cell_type": "code",
   "execution_count": 19,
   "metadata": {},
   "outputs": [
    {
     "data": {
      "text/plain": [
       "0.03104389744438862"
      ]
     },
     "execution_count": 19,
     "metadata": {},
     "output_type": "execute_result"
    }
   ],
   "source": [
    "n_dcg(se_1,ground_truth,9)"
   ]
  },
  {
   "cell_type": "code",
   "execution_count": 20,
   "metadata": {},
   "outputs": [
    {
     "data": {
      "text/plain": [
       "0.005391037561017673"
      ]
     },
     "execution_count": 20,
     "metadata": {},
     "output_type": "execute_result"
    }
   ],
   "source": [
    "n_dcg(se_2,ground_truth,9)"
   ]
  },
  {
   "cell_type": "code",
   "execution_count": 25,
   "metadata": {},
   "outputs": [
    {
     "data": {
      "text/plain": [
       "0.013898940881302583"
      ]
     },
     "execution_count": 25,
     "metadata": {},
     "output_type": "execute_result"
    }
   ],
   "source": [
    "n_dcg(se_3,ground_truth,9)"
   ]
  },
  {
   "cell_type": "code",
   "execution_count": 148,
   "metadata": {},
   "outputs": [],
   "source": [
    "def MRR(sr1,gt):\n",
    "    mrr=0\n",
    "    relevant_doc=[] #list to store the relevant doc_ids for every query id in Q\n",
    "    dd_se= {} \n",
    "    dd_gt= {} \n",
    "    Q=set(gt['Query_ID'].unique()) #number of unique queries in the ground truth\n",
    "    for i in Q:\n",
    "        #key=Query_id,value=list of document ids from SE result\n",
    "        dd_se[i]=sr1[sr1['Query_ID']==i]['Doc_ID'].tolist()\n",
    "        #key=Query_id,value=list of relevant document ids from ground truth\n",
    "        dd_gt[i]=gt[gt['Query_ID']==i]['Relevant_Doc_id'].tolist()\n",
    "    \n",
    "    for q in Q: \n",
    "        relevant_doc=dd_gt[q]\n",
    "        #for each doc in the set of queries\n",
    "        for i in range(len(dd_se[q])): \n",
    "            #if the doc_id is in the list of the relevant doc\n",
    "            if dd_se[q][i] in relevant_doc: \n",
    "                mrr+=(1/(i+1)) #update the MRR value (+1 cause ranking starts with 1)\n",
    "                break #once we get the first doc id from the relevant doc ids in the GT, we can stop\n",
    "    mrr=mrr/(len(Q)) #compute the avg of the sum of reciprocal ranks\n",
    "    return mrr"
   ]
  },
  {
   "cell_type": "code",
   "execution_count": 21,
   "metadata": {
    "scrolled": true
   },
   "outputs": [
    {
     "data": {
      "text/plain": [
       "0.013898940881302583"
      ]
     },
     "execution_count": 21,
     "metadata": {},
     "output_type": "execute_result"
    }
   ],
   "source": [
    "n_dcg(se_3,ground_truth,9)"
   ]
  },
  {
   "cell_type": "code",
   "execution_count": 149,
   "metadata": {},
   "outputs": [
    {
     "data": {
      "text/plain": [
       "0.4981941080106553"
      ]
     },
     "execution_count": 149,
     "metadata": {},
     "output_type": "execute_result"
    }
   ],
   "source": [
    "MRR(se_1, ground_truth)"
   ]
  },
  {
   "cell_type": "code",
   "execution_count": 150,
   "metadata": {},
   "outputs": [
    {
     "data": {
      "text/plain": [
       "0.4168479516002677"
      ]
     },
     "execution_count": 150,
     "metadata": {},
     "output_type": "execute_result"
    }
   ],
   "source": [
    "MRR(se_2, ground_truth)"
   ]
  },
  {
   "cell_type": "code",
   "execution_count": 151,
   "metadata": {
    "scrolled": true
   },
   "outputs": [
    {
     "data": {
      "text/plain": [
       "0.5033451107520734"
      ]
     },
     "execution_count": 151,
     "metadata": {},
     "output_type": "execute_result"
    }
   ],
   "source": [
    "MRR(se_3, ground_truth)"
   ]
  }
 ],
 "metadata": {
  "kernelspec": {
   "display_name": "Python 3",
   "language": "python",
   "name": "python3"
  },
  "language_info": {
   "codemirror_mode": {
    "name": "ipython",
    "version": 3
   },
   "file_extension": ".py",
   "mimetype": "text/x-python",
   "name": "python",
   "nbconvert_exporter": "python",
   "pygments_lexer": "ipython3",
   "version": "3.9.1"
  }
 },
 "nbformat": 4,
 "nbformat_minor": 4
}
