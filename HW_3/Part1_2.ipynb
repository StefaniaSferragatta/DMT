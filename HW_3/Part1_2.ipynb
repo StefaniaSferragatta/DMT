{
 "cells": [
  {
   "cell_type": "code",
   "execution_count": 1,
   "metadata": {
    "id": "s2kNfn01fyLR"
   },
   "outputs": [],
   "source": [
    "# utilities\n",
    "import pandas as pd\n",
    "import jsonlines\n",
    "import json\n",
    "import pickle\n",
    "import numpy as np\n",
    "from csv import DictReader\n",
    "\n",
    "# model training\n",
    "#for binary classification\n",
    "from sklearn.neighbors import KNeighborsClassifier \n",
    "from sklearn import svm\n",
    "#for hyperparams tuning\n",
    "from sklearn.model_selection import RandomizedSearchCV\n",
    "#for the confusion matrix\n",
    "from sklearn import metrics\n",
    "\n",
    "#visualization \n",
    "import seaborn as sns\n",
    "import matplotlib.pyplot as plt"
   ]
  },
  {
   "cell_type": "markdown",
   "metadata": {
    "id": "Wta7_JK2k5OR"
   },
   "source": [
    "Firstly convert the jsonl files into dataframe and save it into .csv file"
   ]
  },
  {
   "cell_type": "code",
   "execution_count": null,
   "metadata": {
    "id": "Y3QDRgAEmUfC"
   },
   "outputs": [],
   "source": [
    "#DEV SET OK\n",
    "df = pd.read_json(r'emb_dev.jsonl')\n",
    "export_csv = df.to_csv(r'emb_dev.csv', index = None, header=True)"
   ]
  },
  {
   "cell_type": "code",
   "execution_count": null,
   "metadata": {
    "id": "J2birSwVr2ZU"
   },
   "outputs": [],
   "source": [
    "# TEST SET OK\n",
    "df1 = pd.read_json(r'emb_test.jsonl')\n",
    "export_csv = df1.to_csv(r'emb_test.csv', index = None, header=True)"
   ]
  },
  {
   "cell_type": "code",
   "execution_count": null,
   "metadata": {
    "id": "vZ13yiXJj3ae"
   },
   "outputs": [],
   "source": [
    "#TRAIN SET OK\n",
    "df2 = pd.read_json(r'emb_train.jsonl')\n",
    "export_csv = df2.to_csv(r'emb_train.csv', index = None, header=True)"
   ]
  },
  {
   "cell_type": "code",
   "execution_count": null,
   "metadata": {
    "colab": {
     "base_uri": "https://localhost:8080/",
     "height": 35
    },
    "id": "HNrZoglsJmX8",
    "outputId": "48d37f57-eaff-45be-b8cc-a03414304902"
   },
   "outputs": [
    {
     "data": {
      "application/javascript": [
       "\n",
       "    async function download(id, filename, size) {\n",
       "      if (!google.colab.kernel.accessAllowed) {\n",
       "        return;\n",
       "      }\n",
       "      const div = document.createElement('div');\n",
       "      const label = document.createElement('label');\n",
       "      label.textContent = `Downloading \"${filename}\": `;\n",
       "      div.appendChild(label);\n",
       "      const progress = document.createElement('progress');\n",
       "      progress.max = size;\n",
       "      div.appendChild(progress);\n",
       "      document.body.appendChild(div);\n",
       "\n",
       "      const buffers = [];\n",
       "      let downloaded = 0;\n",
       "\n",
       "      const channel = await google.colab.kernel.comms.open(id);\n",
       "      // Send a message to notify the kernel that we're ready.\n",
       "      channel.send({})\n",
       "\n",
       "      for await (const message of channel.messages) {\n",
       "        // Send a message to notify the kernel that we're ready.\n",
       "        channel.send({})\n",
       "        if (message.buffers) {\n",
       "          for (const buffer of message.buffers) {\n",
       "            buffers.push(buffer);\n",
       "            downloaded += buffer.byteLength;\n",
       "            progress.value = downloaded;\n",
       "          }\n",
       "        }\n",
       "      }\n",
       "      const blob = new Blob(buffers, {type: 'application/binary'});\n",
       "      const a = document.createElement('a');\n",
       "      a.href = window.URL.createObjectURL(blob);\n",
       "      a.download = filename;\n",
       "      div.appendChild(a);\n",
       "      a.click();\n",
       "      div.remove();\n",
       "    }\n",
       "  "
      ],
      "text/plain": [
       "<IPython.core.display.Javascript object>"
      ]
     },
     "metadata": {
      "tags": []
     },
     "output_type": "display_data"
    },
    {
     "data": {
      "application/javascript": [
       "download(\"download_85d84214-faf8-490e-a1c9-34047d7c7a0e\", \"emb_train.csv\", 1664010843)"
      ],
      "text/plain": [
       "<IPython.core.display.Javascript object>"
      ]
     },
     "metadata": {
      "tags": []
     },
     "output_type": "display_data"
    }
   ],
   "source": [
    "# EXPORTING THE .CSV OF THE TRAIN SET\n",
    "from google.colab import files\n",
    "files.download(\"emb_train.csv\")"
   ]
  },
  {
   "cell_type": "markdown",
   "metadata": {
    "id": "x4nOBrIO5sP3"
   },
   "source": [
    "**TEST OF EVERYTHIN WITH SMALL DATA**"
   ]
  },
  {
   "cell_type": "code",
   "execution_count": 2,
   "metadata": {
    "id": "Jp1n9phs5qtA"
   },
   "outputs": [],
   "source": [
    "#load the data\n",
    "dev_df = pd.read_csv('emb_dev.csv')#,nrows=100)"
   ]
  },
  {
   "cell_type": "code",
   "execution_count": 3,
   "metadata": {
    "id": "XEH3p-yhzYbz"
   },
   "outputs": [],
   "source": [
    "test_df = pd.read_csv('emb_test.csv')#,nrows=100)"
   ]
  },
  {
   "cell_type": "code",
   "execution_count": 4,
   "metadata": {
    "id": "zdGyF-FZzYYj"
   },
   "outputs": [],
   "source": [
    "train_df = pd.read_csv('emb_train.csv')#,nrows=100)"
   ]
  },
  {
   "cell_type": "code",
   "execution_count": 5,
   "metadata": {
    "id": "N0EA-dhzFw-5"
   },
   "outputs": [],
   "source": [
    "''' Method to modify the dataset taking only the usefull fields 'output' and 'claim_embedding' and convert the output's values into binary values for the classification\n",
    "  Input: dataframe to modify\n",
    "  Output: modified dataframe\n",
    "'''\n",
    "def modify_df(df):  \n",
    "    #delete the useless columns\n",
    "    del df['id']\n",
    "    del df['input']\n",
    "\n",
    "    dict_output = {}\n",
    "    list_values = []\n",
    "    #extract the items from the output column\n",
    "    output = df['output']\n",
    "    for item in output:\n",
    "        #to convert the string of dict into dict\n",
    "        dict_output= eval(item)\n",
    "        # change values to represent labels as 0 (\"REFUTES\") and 1 (\"SUPPORTS\") and add them to a list\n",
    "        for i in dict_output:\n",
    "            if (dict_output[i] == 'REFUTES'):\n",
    "                list_values.append(0)\n",
    "            else:\n",
    "                list_values.append(1)\n",
    "\n",
    "    #create a new column of the df with the list of zeros and ones \n",
    "    df['labels'] = list_values\n",
    "    #delete the output column\n",
    "    del df['output']\n",
    "    return df "
   ]
  },
  {
   "cell_type": "code",
   "execution_count": 6,
   "metadata": {
    "id": "zX4EpingFxBW"
   },
   "outputs": [],
   "source": [
    "# obtain the dataset processed \n",
    "dev = modify_df(dev_df)"
   ]
  },
  {
   "cell_type": "code",
   "execution_count": 15,
   "metadata": {
    "colab": {
     "base_uri": "https://localhost:8080/",
     "height": 196
    },
    "id": "5fxmW9rmPtLm",
    "outputId": "f874991e-1482-4720-f1b4-0e5a60824320"
   },
   "outputs": [
    {
     "data": {
      "text/html": [
       "<div>\n",
       "<style scoped>\n",
       "    .dataframe tbody tr th:only-of-type {\n",
       "        vertical-align: middle;\n",
       "    }\n",
       "\n",
       "    .dataframe tbody tr th {\n",
       "        vertical-align: top;\n",
       "    }\n",
       "\n",
       "    .dataframe thead th {\n",
       "        text-align: right;\n",
       "    }\n",
       "</style>\n",
       "<table border=\"1\" class=\"dataframe\">\n",
       "  <thead>\n",
       "    <tr style=\"text-align: right;\">\n",
       "      <th></th>\n",
       "      <th>claim_embedding</th>\n",
       "      <th>labels</th>\n",
       "    </tr>\n",
       "  </thead>\n",
       "  <tbody>\n",
       "    <tr>\n",
       "      <th>0</th>\n",
       "      <td>[0.0312394015491, -0.19459494948387102, -0.207...</td>\n",
       "      <td>1</td>\n",
       "    </tr>\n",
       "    <tr>\n",
       "      <th>1</th>\n",
       "      <td>[0.0312394015491, -0.19459494948387102, -0.207...</td>\n",
       "      <td>0</td>\n",
       "    </tr>\n",
       "    <tr>\n",
       "      <th>2</th>\n",
       "      <td>[0.0312394015491, -0.19459494948387102, -0.207...</td>\n",
       "      <td>0</td>\n",
       "    </tr>\n",
       "    <tr>\n",
       "      <th>3</th>\n",
       "      <td>[0.0312394015491, -0.19459494948387102, -0.207...</td>\n",
       "      <td>1</td>\n",
       "    </tr>\n",
       "    <tr>\n",
       "      <th>4</th>\n",
       "      <td>[0.0312394015491, -0.19459494948387102, -0.207...</td>\n",
       "      <td>1</td>\n",
       "    </tr>\n",
       "  </tbody>\n",
       "</table>\n",
       "</div>"
      ],
      "text/plain": [
       "                                     claim_embedding  labels\n",
       "0  [0.0312394015491, -0.19459494948387102, -0.207...       1\n",
       "1  [0.0312394015491, -0.19459494948387102, -0.207...       0\n",
       "2  [0.0312394015491, -0.19459494948387102, -0.207...       0\n",
       "3  [0.0312394015491, -0.19459494948387102, -0.207...       1\n",
       "4  [0.0312394015491, -0.19459494948387102, -0.207...       1"
      ]
     },
     "execution_count": 15,
     "metadata": {},
     "output_type": "execute_result"
    }
   ],
   "source": [
    "dev.head()"
   ]
  },
  {
   "cell_type": "code",
   "execution_count": 7,
   "metadata": {
    "id": "BtP5BodH5q6Z"
   },
   "outputs": [],
   "source": [
    "# obtain the dataset processed \n",
    "train = modify_df(train_df)"
   ]
  },
  {
   "cell_type": "code",
   "execution_count": 17,
   "metadata": {
    "colab": {
     "base_uri": "https://localhost:8080/",
     "height": 196
    },
    "id": "kwb-XL24zdSW",
    "outputId": "2339f77a-5f6b-4fa8-857a-2105780b410c"
   },
   "outputs": [
    {
     "data": {
      "text/html": [
       "<div>\n",
       "<style scoped>\n",
       "    .dataframe tbody tr th:only-of-type {\n",
       "        vertical-align: middle;\n",
       "    }\n",
       "\n",
       "    .dataframe tbody tr th {\n",
       "        vertical-align: top;\n",
       "    }\n",
       "\n",
       "    .dataframe thead th {\n",
       "        text-align: right;\n",
       "    }\n",
       "</style>\n",
       "<table border=\"1\" class=\"dataframe\">\n",
       "  <thead>\n",
       "    <tr style=\"text-align: right;\">\n",
       "      <th></th>\n",
       "      <th>claim_embedding</th>\n",
       "      <th>labels</th>\n",
       "    </tr>\n",
       "  </thead>\n",
       "  <tbody>\n",
       "    <tr>\n",
       "      <th>0</th>\n",
       "      <td>[-0.23010256886482203, 0.021919053047895, -0.0...</td>\n",
       "      <td>1</td>\n",
       "    </tr>\n",
       "    <tr>\n",
       "      <th>1</th>\n",
       "      <td>[-0.23010256886482203, 0.021919053047895, -0.0...</td>\n",
       "      <td>1</td>\n",
       "    </tr>\n",
       "    <tr>\n",
       "      <th>2</th>\n",
       "      <td>[-0.23010256886482203, 0.021919053047895, -0.0...</td>\n",
       "      <td>1</td>\n",
       "    </tr>\n",
       "    <tr>\n",
       "      <th>3</th>\n",
       "      <td>[-0.23010256886482203, 0.021919053047895, -0.0...</td>\n",
       "      <td>0</td>\n",
       "    </tr>\n",
       "    <tr>\n",
       "      <th>4</th>\n",
       "      <td>[-0.23010256886482203, 0.021919053047895, -0.0...</td>\n",
       "      <td>1</td>\n",
       "    </tr>\n",
       "  </tbody>\n",
       "</table>\n",
       "</div>"
      ],
      "text/plain": [
       "                                     claim_embedding  labels\n",
       "0  [-0.23010256886482203, 0.021919053047895, -0.0...       1\n",
       "1  [-0.23010256886482203, 0.021919053047895, -0.0...       1\n",
       "2  [-0.23010256886482203, 0.021919053047895, -0.0...       1\n",
       "3  [-0.23010256886482203, 0.021919053047895, -0.0...       0\n",
       "4  [-0.23010256886482203, 0.021919053047895, -0.0...       1"
      ]
     },
     "execution_count": 17,
     "metadata": {},
     "output_type": "execute_result"
    }
   ],
   "source": [
    "train.head()"
   ]
  },
  {
   "cell_type": "markdown",
   "metadata": {
    "id": "gK2ofx1n-D_q"
   },
   "source": [
    "#### For training the classification model, firstly we split the datasets:\n",
    "- train_set divided in:\n",
    "    - x_train (embeddings vectors)  \n",
    "    - y_train (label) \n",
    "- dev_set divided in:\n",
    "    - x_dev (embeddings vectors), \n",
    "    - y_dev (label)\n",
    "- test_set becames x_test (embeddings vectors)"
   ]
  },
  {
   "cell_type": "code",
   "execution_count": 8,
   "metadata": {
    "id": "fsu-QxzF-Kfx"
   },
   "outputs": [],
   "source": [
    "x_train_emb = train['claim_embedding']\n",
    "#convert string to list \n",
    "x_train = [n.strip('][').split(', ') for n in x_train_emb]\n",
    "\n",
    "y_train = train.labels"
   ]
  },
  {
   "cell_type": "code",
   "execution_count": 9,
   "metadata": {
    "id": "Qw81zIbzPYTY"
   },
   "outputs": [],
   "source": [
    "x_dev_emb = dev['claim_embedding']\n",
    "#convert string to list \n",
    "x_dev = [n.strip('][').split(', ') for n in x_dev_emb]\n",
    "\n",
    "y_dev = dev.labels"
   ]
  },
  {
   "cell_type": "code",
   "execution_count": 10,
   "metadata": {
    "id": "kUo4VVdMve12"
   },
   "outputs": [],
   "source": [
    "test_set = test_df.claim_embedding\n",
    "#convert string to list \n",
    "x_test = [n.strip('][').split(', ') for n in test_set]"
   ]
  },
  {
   "cell_type": "markdown",
   "metadata": {},
   "source": [
    "# KNN Classifier \n",
    "--------------------------------------------------------------------------------------"
   ]
  },
  {
   "cell_type": "markdown",
   "metadata": {
    "id": "u6xEmNsF-O3Y"
   },
   "source": [
    "### Tuning on the dev set\n",
    "Function for tuning the hyperparameters. It returns the best params to use for the KNN"
   ]
  },
  {
   "cell_type": "code",
   "execution_count": 21,
   "metadata": {
    "id": "JKhHlqEh-OFG"
   },
   "outputs": [],
   "source": [
    "''' Method for tuning the hyperparameters\n",
    "  Input: splitted dev set into x and y for the fit of the RandomizedSearchCV\n",
    "  Output: best params to use for the KNN\n",
    "'''\n",
    "def tuning(x_dev,y_dev):\n",
    "    # define the parameter values that should be searched\n",
    "    k_range = list(range(1,30,4))\n",
    "    weight_options = ['uniform', 'distance'] # distance: more weight to more similar values\n",
    "    algo_options = ['auto', 'ball_tree', 'kd_tree', 'brute']\n",
    "    distance_options = [1,2,3] # different types of distances (manhattan, euclidean, minkowksi)\n",
    "    \n",
    "    # save the \"parameter grid\"\n",
    "    param_grid = dict(n_neighbors=k_range, weights=weight_options, algorithm =algo_options,  p=distance_options)\n",
    "    print('Params grid: ',param_grid) #need this for the report\n",
    "\n",
    "    #define the classification model chosen\n",
    "    model = KNeighborsClassifier()\n",
    "    rand = RandomizedSearchCV(model, param_grid, cv=5, scoring='accuracy', n_iter=10, random_state=5, n_jobs=-1)\n",
    "    rand.fit(x_dev, y_dev)\n",
    "    rand.cv_results_\n",
    "    \n",
    "    # examine the best model\n",
    "    print('Rand. Best Score: ', rand.best_score_)\n",
    "    #save the optimize parameters\n",
    "    best_param = rand.best_params_\n",
    "    #return the tuning params for the model\n",
    "    return best_param "
   ]
  },
  {
   "cell_type": "markdown",
   "metadata": {
    "id": "q5xmBdmB-VUv"
   },
   "source": [
    "#### Now using the best parameter obtained by the tuning with the RandomizedSearchCV, we can train the train_set with the KNN"
   ]
  },
  {
   "cell_type": "code",
   "execution_count": 22,
   "metadata": {
    "colab": {
     "base_uri": "https://localhost:8080/"
    },
    "id": "qwMqrtF3-KlD",
    "outputId": "a1e9a398-68ec-490a-fae5-1bc7de0e6fb6"
   },
   "outputs": [
    {
     "name": "stdout",
     "output_type": "stream",
     "text": [
      "Params grid:  {'n_neighbors': [1, 5, 9, 13, 17, 21, 25, 29], 'weights': ['uniform', 'distance'], 'algorithm': ['auto', 'ball_tree', 'kd_tree', 'brute'], 'p': [1, 2, 3]}\n"
     ]
    },
    {
     "name": "stderr",
     "output_type": "stream",
     "text": [
      "c:\\users\\stefania\\appdata\\local\\programs\\python\\python39\\lib\\site-packages\\sklearn\\utils\\validation.py:63: FutureWarning: Arrays of bytes/strings is being converted to decimal numbers if dtype='numeric'. This behavior is deprecated in 0.24 and will be removed in 1.1 (renaming of 0.26). Please convert your data to numeric values explicitly instead.\n",
      "  return f(*args, **kwargs)\n"
     ]
    },
    {
     "name": "stdout",
     "output_type": "stream",
     "text": [
      "Rand. Best Score:  0.5028724627633527\n"
     ]
    }
   ],
   "source": [
    "params = tuning(x_dev,y_dev) #dict of best parameters for the classifier"
   ]
  },
  {
   "cell_type": "code",
   "execution_count": 23,
   "metadata": {
    "colab": {
     "base_uri": "https://localhost:8080/"
    },
    "id": "SxaPf2_MduLE",
    "outputId": "b699d240-05f1-46a4-80de-32e4fb0a779f"
   },
   "outputs": [
    {
     "data": {
      "text/plain": [
       "{'weights': 'uniform', 'p': 1, 'n_neighbors': 29, 'algorithm': 'kd_tree'}"
      ]
     },
     "execution_count": 23,
     "metadata": {},
     "output_type": "execute_result"
    }
   ],
   "source": [
    "params"
   ]
  },
  {
   "cell_type": "markdown",
   "metadata": {
    "id": "_CRLR7zMhBAE"
   },
   "source": [
    "TRAIN THE MODEL AND SAVE IT"
   ]
  },
  {
   "cell_type": "code",
   "execution_count": 25,
   "metadata": {
    "id": "1IBW1mShenog"
   },
   "outputs": [],
   "source": [
    "''' Method for training the model using the KNeighborsClassifier() as binary classifier. After the training, the model is saved into a pickle file\n",
    "  Input: dictionary of the tuned parameters, train set splitted in feature and target (x_train, y_train)\n",
    "'''\n",
    "def classifier(params, x_train, y_train):\n",
    "    #train the model using the optimized params obtained in the tuning\n",
    "    knn = KNeighborsClassifier(n_neighbors=params['n_neighbors'], weights=params['weights'], algorithm= params['algorithm'], p=params['p'])\n",
    "    \n",
    "    #fit the model\n",
    "    knn.fit(x_train, y_train)\n",
    "    \n",
    "    # save the model to disk\n",
    "    filename = 'KNN.sav'\n",
    "    pickle.dump(knn, open(filename, 'wb'))"
   ]
  },
  {
   "cell_type": "code",
   "execution_count": 26,
   "metadata": {
    "colab": {
     "base_uri": "https://localhost:8080/"
    },
    "id": "9iUkrarwenmL",
    "outputId": "2959c08f-8915-426c-882b-2f0348fab658"
   },
   "outputs": [
    {
     "name": "stderr",
     "output_type": "stream",
     "text": [
      "c:\\users\\stefania\\appdata\\local\\programs\\python\\python39\\lib\\site-packages\\sklearn\\utils\\validation.py:63: FutureWarning: Arrays of bytes/strings is being converted to decimal numbers if dtype='numeric'. This behavior is deprecated in 0.24 and will be removed in 1.1 (renaming of 0.26). Please convert your data to numeric values explicitly instead.\n",
      "  return f(*args, **kwargs)\n"
     ]
    }
   ],
   "source": [
    "classifier(params, x_train, y_train)"
   ]
  },
  {
   "cell_type": "markdown",
   "metadata": {
    "id": "jqcupODyhGaN"
   },
   "source": [
    "MAKE CLASS PREDICTION ON  THE SAVED MODEL "
   ]
  },
  {
   "cell_type": "code",
   "execution_count": null,
   "metadata": {},
   "outputs": [],
   "source": [
    "# load the trained model from disk\n",
    "knn = pickle.load(open('KNN.sav', 'rb'))"
   ]
  },
  {
   "cell_type": "code",
   "execution_count": 12,
   "metadata": {
    "colab": {
     "base_uri": "https://localhost:8080/"
    },
    "id": "id4SK1pienj1",
    "outputId": "1003f86c-ffa0-48bf-ec15-8c483f089f8e"
   },
   "outputs": [
    {
     "name": "stderr",
     "output_type": "stream",
     "text": [
      "c:\\users\\stefania\\appdata\\local\\programs\\python\\python39\\lib\\site-packages\\sklearn\\utils\\validation.py:63: FutureWarning: Arrays of bytes/strings is being converted to decimal numbers if dtype='numeric'. This behavior is deprecated in 0.24 and will be removed in 1.1 (renaming of 0.26). Please convert your data to numeric values explicitly instead.\n",
      "  return f(*args, **kwargs)\n"
     ]
    }
   ],
   "source": [
    "# make class predictions for the dev set, we need this to evaluate the model\n",
    "y_pred_class = knn.predict(x_dev)"
   ]
  },
  {
   "cell_type": "markdown",
   "metadata": {
    "id": "eKk07FT2hdFE"
   },
   "source": [
    "EVALUATE THE MODEL"
   ]
  },
  {
   "cell_type": "code",
   "execution_count": 15,
   "metadata": {
    "id": "K7Akfl8IhWeM"
   },
   "outputs": [],
   "source": [
    "''' Function for the evaluation of the model. Using the metrics function from the library sklearn, here we compute the accuracy_score, the confusion_matrix and the precision and recall of the targets 'SUPPORTS', 'REFUTES'.\n",
    "  Input: y_dev, predicted class\n",
    "  Output: accuracy score,confusion matrix,precision score,recall score\n",
    "'''\n",
    "def evaluation(y_dev,y_pred_class):    \n",
    "    # compute the accuracy \n",
    "    accuracy = metrics.accuracy_score(y_dev, y_pred_class)\n",
    "    \n",
    "    #build the confusion matrix and plot it\n",
    "    confusion = metrics.confusion_matrix(y_dev, y_pred_class)\n",
    "                #[row, column]\n",
    "    TP = confusion[1, 1]\n",
    "    TN = confusion[0, 0]\n",
    "    FP = confusion[0, 1]\n",
    "    FN = confusion[1, 0]\n",
    "    \n",
    "    # visualize Confusion Matrix\n",
    "    sns.heatmap(confusion,annot=True,fmt=\"d\") \n",
    "    plt.title('Confusion Matrix')\n",
    "    plt.xlabel('Predicted')\n",
    "    plt.ylabel('Actual')\n",
    "    plt.show()\n",
    "    \n",
    "    # compute the precision and the recall on the label and print them\n",
    "    target_names = ['SUPPORTS', 'REFUTES']\n",
    "    print(metrics.classification_report(y_dev, y_pred_class, target_names=target_names))\n",
    "    \n",
    "    return accuracy,confusion"
   ]
  },
  {
   "cell_type": "code",
   "execution_count": 16,
   "metadata": {
    "colab": {
     "base_uri": "https://localhost:8080/",
     "height": 515
    },
    "id": "TsyYqn3ueneL",
    "outputId": "d0922e05-f5a6-4f31-b850-fe4f1415aec4"
   },
   "outputs": [
    {
     "data": {
      "image/png": "[encoded data removed]",
      "text/plain": [
       "<Figure size 432x288 with 2 Axes>"
      ]
     },
     "metadata": {
      "needs_background": "light"
     },
     "output_type": "display_data"
    },
    {
     "name": "stdout",
     "output_type": "stream",
     "text": [
      "              precision    recall  f1-score   support\n",
      "\n",
      "    SUPPORTS       0.00      0.00      0.00      5252\n",
      "     REFUTES       0.50      1.00      0.66      5192\n",
      "\n",
      "    accuracy                           0.50     10444\n",
      "   macro avg       0.25      0.50      0.33     10444\n",
      "weighted avg       0.25      0.50      0.33     10444\n",
      "\n"
     ]
    },
    {
     "name": "stderr",
     "output_type": "stream",
     "text": [
      "c:\\users\\stefania\\appdata\\local\\programs\\python\\python39\\lib\\site-packages\\sklearn\\metrics\\_classification.py:1245: UndefinedMetricWarning: Precision and F-score are ill-defined and being set to 0.0 in labels with no predicted samples. Use `zero_division` parameter to control this behavior.\n",
      "  _warn_prf(average, modifier, msg_start, len(result))\n",
      "c:\\users\\stefania\\appdata\\local\\programs\\python\\python39\\lib\\site-packages\\sklearn\\metrics\\_classification.py:1245: UndefinedMetricWarning: Precision and F-score are ill-defined and being set to 0.0 in labels with no predicted samples. Use `zero_division` parameter to control this behavior.\n",
      "  _warn_prf(average, modifier, msg_start, len(result))\n",
      "c:\\users\\stefania\\appdata\\local\\programs\\python\\python39\\lib\\site-packages\\sklearn\\metrics\\_classification.py:1245: UndefinedMetricWarning: Precision and F-score are ill-defined and being set to 0.0 in labels with no predicted samples. Use `zero_division` parameter to control this behavior.\n",
      "  _warn_prf(average, modifier, msg_start, len(result))\n"
     ]
    }
   ],
   "source": [
    "results = evaluation(y_dev,y_pred_class)"
   ]
  },
  {
   "cell_type": "code",
   "execution_count": 17,
   "metadata": {
    "colab": {
     "base_uri": "https://localhost:8080/"
    },
    "id": "SiIA70kIenb4",
    "outputId": "791bf51f-5d59-4d1d-d5a6-e3b15633acb7"
   },
   "outputs": [
    {
     "name": "stdout",
     "output_type": "stream",
     "text": [
      "Accuracy value:  0.49712753734201454\n"
     ]
    }
   ],
   "source": [
    "print('Accuracy value: ',results[0])\n",
    "conf_matrix = results[1]"
   ]
  },
  {
   "cell_type": "code",
   "execution_count": 18,
   "metadata": {
    "colab": {
     "base_uri": "https://localhost:8080/"
    },
    "id": "h1Q3rmJ9enZx",
    "outputId": "fdaebc15-05f3-46a2-f5a6-58eb12583420",
    "scrolled": false
   },
   "outputs": [
    {
     "data": {
      "text/plain": [
       "array([[   0, 5252],\n",
       "       [   0, 5192]], dtype=int64)"
      ]
     },
     "execution_count": 18,
     "metadata": {},
     "output_type": "execute_result"
    }
   ],
   "source": [
    "conf_matrix"
   ]
  },
  {
   "cell_type": "code",
   "execution_count": null,
   "metadata": {},
   "outputs": [],
   "source": []
  },
  {
   "cell_type": "markdown",
   "metadata": {
    "id": "s4CnKhYakYOF"
   },
   "source": [
    "**For the chosen classifier, get predictions for the official test set associated to the best hyperparameter configuration.**"
   ]
  },
  {
   "cell_type": "code",
   "execution_count": 22,
   "metadata": {},
   "outputs": [],
   "source": [
    "test_df = pd.read_csv('emb_test.csv',nrows=100)"
   ]
  },
  {
   "cell_type": "code",
   "execution_count": 23,
   "metadata": {},
   "outputs": [],
   "source": [
    "test_set = test_df.claim_embedding\n",
    "#convert string to list \n",
    "x_test = [n.strip('][').split(', ') for n in test_set]"
   ]
  },
  {
   "cell_type": "code",
   "execution_count": 25,
   "metadata": {},
   "outputs": [],
   "source": [
    "# load the trained model from disk\n",
    "knn = pickle.load(open('KNN.sav', 'rb'))\n",
    "# get predictions for the official test set \n",
    "pred_test = knn.predict(x_test)"
   ]
  },
  {
   "cell_type": "code",
   "execution_count": 27,
   "metadata": {
    "scrolled": false
   },
   "outputs": [
    {
     "data": {
      "text/plain": [
       "array([1, 1, 1, 1, 1, 1, 1, 1, 1, 1, 1, 1, 1, 1, 1, 1, 1, 1, 1, 1, 1, 1,\n",
       "       1, 1, 1, 1, 1, 1, 1, 1, 1, 1, 1, 1, 1, 1, 1, 1, 1, 1, 1, 1, 1, 1,\n",
       "       1, 1, 1, 1, 1, 1, 1, 1, 1, 1, 1, 1, 1, 1, 1, 1, 1, 1, 1, 1, 1, 1,\n",
       "       1, 1, 1, 1, 1, 1, 1, 1, 1, 1, 1, 1, 1, 1, 1, 1, 1, 1, 1, 1, 1, 1,\n",
       "       1, 1, 1, 1, 1, 1, 1, 1, 1, 1, 1, 1], dtype=int64)"
      ]
     },
     "execution_count": 27,
     "metadata": {},
     "output_type": "execute_result"
    }
   ],
   "source": [
    "pred_test"
   ]
  },
  {
   "cell_type": "code",
   "execution_count": 175,
   "metadata": {},
   "outputs": [],
   "source": [
    "with open('emb_test.csv', 'r') as read_obj:\n",
    "    # pass the file object to DictReader() to get the DictReader object\n",
    "    dict_reader = DictReader(read_obj)\n",
    "    # get a list of dictionaries from dict_reader\n",
    "    json_test = list(dict_reader)\n",
    "\n",
    "    #delete the useless fields    \n",
    "for i in range(len(json_test)):\n",
    "    del json_test[i]['claim_embedding'], json_test[i]['input']"
   ]
  },
  {
   "cell_type": "code",
   "execution_count": 180,
   "metadata": {},
   "outputs": [],
   "source": [
    "for index in range(len(json_test)):\n",
    "    for i in range(len(pred_test)): #questo if quando viene girato su tutto il dataset non dovrebbe servire\n",
    "        if pred_test[i]==1:\n",
    "            json_test[index]['answer']= {'label':'SUPPORT'}\n",
    "        else:\n",
    "            json_test[index]['answer']= {'label':'REFUTES'}"
   ]
  },
  {
   "cell_type": "markdown",
   "metadata": {
    "id": "tDDcB8hgwEjn"
   },
   "source": [
    "**Put the predictions in a file named “test_set_pred_1.jsonl”**"
   ]
  },
  {
   "cell_type": "code",
   "execution_count": 185,
   "metadata": {
    "id": "T-A5a52JjSGt"
   },
   "outputs": [],
   "source": [
    "# save the prediction into a file\n",
    "with jsonlines.open('test_set_pred.jsonl', mode = 'w') as writer:\n",
    "    writer.write(json_test)"
   ]
  },
  {
   "cell_type": "markdown",
   "metadata": {},
   "source": [
    "-----------------------------------------------------------------------------------------"
   ]
  },
  {
   "cell_type": "markdown",
   "metadata": {},
   "source": [
    "# SVM Classifier\n",
    "--------------------------------------------------------------------------------------"
   ]
  },
  {
   "cell_type": "markdown",
   "metadata": {
    "id": "u6xEmNsF-O3Y"
   },
   "source": [
    "### Tuning on the dev set\n",
    "Function for tuning the hyperparameters. It returns the best params to use for the SVM"
   ]
  },
  {
   "cell_type": "code",
   "execution_count": 11,
   "metadata": {
    "id": "JKhHlqEh-OFG"
   },
   "outputs": [],
   "source": [
    "''' Method for tuning the hyperparameters\n",
    "  Input: splitted dev set into x and y for the fit of the RandomizedSearchCV\n",
    "  Output: best params to use for the SVM\n",
    "'''\n",
    "def tuning(x_dev,y_dev):\n",
    "    # define the parameter values that should be searched\n",
    "    C_range= list(np.arange(1,5,0.5))\n",
    "    kernel = ['linear', 'poly', 'rbf', 'sigmoid']\n",
    "    gamma = ['auto', 'scale']\n",
    "    probability = [True,False] # different types of distances (manhattan, euclidean, minkowksi)\n",
    "    decision_function_shape= ['ovo', 'ovr']\n",
    "    random_state_range=list(range(2,42,10))\n",
    "    \n",
    "    # save the \"parameter grid\"\n",
    "    param_grid = dict(C=C_range,kernel=kernel, gamma=gamma,\\\n",
    "                      decision_function_shape=decision_function_shape,\\\n",
    "                      random_state=random_state_range,probability=probability)\n",
    "    \n",
    "    print('Params grid: ',param_grid) #need this for the report\n",
    "\n",
    "    #define the classification model chosen\n",
    "    model = svm.SVC()\n",
    "    rand = RandomizedSearchCV(model, param_grid, cv=5, scoring='accuracy', n_iter=10, random_state=5, n_jobs=-1)\n",
    "    rand.fit(x_dev, y_dev)\n",
    "    rand.cv_results_\n",
    "    \n",
    "    # examine the best model\n",
    "    print('Rand. Best Score: ', rand.best_score_)\n",
    "    #save the optimize parameters\n",
    "    best_param = rand.best_params_\n",
    "    #return the tuning params for the model\n",
    "    return best_param "
   ]
  },
  {
   "cell_type": "markdown",
   "metadata": {
    "id": "q5xmBdmB-VUv"
   },
   "source": [
    "#### Now using the best parameter obtained by the tuning with the RandomizedSearchCV, we can train the train_set with the SVM"
   ]
  },
  {
   "cell_type": "code",
   "execution_count": 12,
   "metadata": {
    "colab": {
     "base_uri": "https://localhost:8080/"
    },
    "id": "qwMqrtF3-KlD",
    "outputId": "a1e9a398-68ec-490a-fae5-1bc7de0e6fb6"
   },
   "outputs": [
    {
     "name": "stdout",
     "output_type": "stream",
     "text": [
      "Params grid:  {'C': [1.0, 1.5, 2.0, 2.5, 3.0, 3.5, 4.0, 4.5], 'kernel': ['linear', 'poly', 'rbf', 'sigmoid'], 'gamma': ['auto', 'scale'], 'decision_function_shape': ['ovo', 'ovr'], 'random_state': [2, 12, 22, 32], 'probability': [True, False]}\n",
      "Rand. Best Score:  0.5028724627633527\n"
     ]
    }
   ],
   "source": [
    "params = tuning(x_dev,y_dev) #dict of best parameters for the classifier"
   ]
  },
  {
   "cell_type": "code",
   "execution_count": 13,
   "metadata": {
    "colab": {
     "base_uri": "https://localhost:8080/"
    },
    "id": "SxaPf2_MduLE",
    "outputId": "b699d240-05f1-46a4-80de-32e4fb0a779f"
   },
   "outputs": [
    {
     "data": {
      "text/plain": [
       "{'random_state': 32,\n",
       " 'probability': True,\n",
       " 'kernel': 'linear',\n",
       " 'gamma': 'scale',\n",
       " 'decision_function_shape': 'ovr',\n",
       " 'C': 4.0}"
      ]
     },
     "execution_count": 13,
     "metadata": {},
     "output_type": "execute_result"
    }
   ],
   "source": [
    "params"
   ]
  },
  {
   "cell_type": "markdown",
   "metadata": {
    "id": "_CRLR7zMhBAE"
   },
   "source": [
    "TRAIN THE MODEL AND SAVE IT"
   ]
  },
  {
   "cell_type": "code",
   "execution_count": 14,
   "metadata": {
    "id": "1IBW1mShenog"
   },
   "outputs": [],
   "source": [
    "''' Method for training the model using the KNeighborsClassifier() as binary classifier. After the training, the model is saved into a pickle file\n",
    "  Input: dictionary of the tuned parameters, train set splitted in feature and target (x_train, y_train)\n",
    "'''\n",
    "def classifier(params, x_train, y_train):\n",
    "    #train the model using the optimized params obtained in the tuning\n",
    "    SVM = svm.SVC(C=params['C'],gamma=params['gamma'],decision_function_shape=params['decision_function_shape'],\\\n",
    "                 kernel=params['kernel'],probability=params['probability'],random_state=params['random_state'])\n",
    "    \n",
    "    #fit the model\n",
    "    SVM.fit(x_train, y_train)\n",
    "    \n",
    "    # save the model to disk\n",
    "    filename = 'SVM.sav'\n",
    "    pickle.dump(SVM, open(filename, 'wb'))"
   ]
  },
  {
   "cell_type": "code",
   "execution_count": 15,
   "metadata": {
    "colab": {
     "base_uri": "https://localhost:8080/"
    },
    "id": "9iUkrarwenmL",
    "outputId": "2959c08f-8915-426c-882b-2f0348fab658"
   },
   "outputs": [],
   "source": [
    "classifier(params, x_train, y_train)"
   ]
  },
  {
   "cell_type": "markdown",
   "metadata": {
    "id": "jqcupODyhGaN"
   },
   "source": [
    "MAKE CLASS PREDICTION ON  THE SAVED MODEL "
   ]
  },
  {
   "cell_type": "code",
   "execution_count": 16,
   "metadata": {},
   "outputs": [],
   "source": [
    "# load the trained model from disk\n",
    "SVM = pickle.load(open('SVM.sav', 'rb'))"
   ]
  },
  {
   "cell_type": "code",
   "execution_count": 17,
   "metadata": {
    "colab": {
     "base_uri": "https://localhost:8080/"
    },
    "id": "id4SK1pienj1",
    "outputId": "1003f86c-ffa0-48bf-ec15-8c483f089f8e"
   },
   "outputs": [],
   "source": [
    "# make class predictions for the dev set, we need this to evaluate the model\n",
    "y_pred_class = SVM.predict(x_dev)"
   ]
  },
  {
   "cell_type": "markdown",
   "metadata": {
    "id": "eKk07FT2hdFE"
   },
   "source": [
    "EVALUATE THE MODEL"
   ]
  },
  {
   "cell_type": "code",
   "execution_count": 18,
   "metadata": {
    "id": "K7Akfl8IhWeM"
   },
   "outputs": [],
   "source": [
    "''' Function for the evaluation of the model. Using the metrics function from the library sklearn, here we compute the accuracy_score, the confusion_matrix and the precision and recall of the targets 'SUPPORTS', 'REFUTES'.\n",
    "  Input: y_dev, predicted class\n",
    "  Output: accuracy score,confusion matrix,precision score,recall score\n",
    "'''\n",
    "def evaluation(y_dev,y_pred_class):    \n",
    "    # compute the accuracy \n",
    "    accuracy = metrics.accuracy_score(y_dev, y_pred_class)\n",
    "    \n",
    "    #build the confusion matrix and plot it\n",
    "    confusion = metrics.confusion_matrix(y_dev, y_pred_class)\n",
    "                #[row, column]\n",
    "    TP = confusion[1, 1]\n",
    "    TN = confusion[0, 0]\n",
    "    FP = confusion[0, 1]\n",
    "    FN = confusion[1, 0]\n",
    "    \n",
    "    # visualize Confusion Matrix\n",
    "    sns.heatmap(confusion,annot=True,fmt=\"d\") \n",
    "    plt.title('Confusion Matrix')\n",
    "    plt.xlabel('Predicted')\n",
    "    plt.ylabel('Actual')\n",
    "    plt.show()\n",
    "    \n",
    "    # compute the precision and the recall on the label and print them\n",
    "    target_names = ['SUPPORTS', 'REFUTES']\n",
    "    print(metrics.classification_report(y_dev, y_pred_class, target_names=target_names))\n",
    "    \n",
    "    return accuracy,confusion"
   ]
  },
  {
   "cell_type": "code",
   "execution_count": 19,
   "metadata": {
    "colab": {
     "base_uri": "https://localhost:8080/",
     "height": 515
    },
    "id": "TsyYqn3ueneL",
    "outputId": "d0922e05-f5a6-4f31-b850-fe4f1415aec4"
   },
   "outputs": [
    {
     "data": {
      "image/png": "[encoded data removed]",
      "text/plain": [
       "<Figure size 432x288 with 2 Axes>"
      ]
     },
     "metadata": {
      "needs_background": "light"
     },
     "output_type": "display_data"
    },
    {
     "name": "stdout",
     "output_type": "stream",
     "text": [
      "              precision    recall  f1-score   support\n",
      "\n",
      "    SUPPORTS       0.00      0.00      0.00      5252\n",
      "     REFUTES       0.50      1.00      0.66      5192\n",
      "\n",
      "    accuracy                           0.50     10444\n",
      "   macro avg       0.25      0.50      0.33     10444\n",
      "weighted avg       0.25      0.50      0.33     10444\n",
      "\n"
     ]
    },
    {
     "name": "stderr",
     "output_type": "stream",
     "text": [
      "c:\\users\\stefania\\appdata\\local\\programs\\python\\python39\\lib\\site-packages\\sklearn\\metrics\\_classification.py:1245: UndefinedMetricWarning: Precision and F-score are ill-defined and being set to 0.0 in labels with no predicted samples. Use `zero_division` parameter to control this behavior.\n",
      "  _warn_prf(average, modifier, msg_start, len(result))\n",
      "c:\\users\\stefania\\appdata\\local\\programs\\python\\python39\\lib\\site-packages\\sklearn\\metrics\\_classification.py:1245: UndefinedMetricWarning: Precision and F-score are ill-defined and being set to 0.0 in labels with no predicted samples. Use `zero_division` parameter to control this behavior.\n",
      "  _warn_prf(average, modifier, msg_start, len(result))\n",
      "c:\\users\\stefania\\appdata\\local\\programs\\python\\python39\\lib\\site-packages\\sklearn\\metrics\\_classification.py:1245: UndefinedMetricWarning: Precision and F-score are ill-defined and being set to 0.0 in labels with no predicted samples. Use `zero_division` parameter to control this behavior.\n",
      "  _warn_prf(average, modifier, msg_start, len(result))\n"
     ]
    }
   ],
   "source": [
    "results = evaluation(y_dev,y_pred_class)"
   ]
  },
  {
   "cell_type": "code",
   "execution_count": 20,
   "metadata": {
    "colab": {
     "base_uri": "https://localhost:8080/"
    },
    "id": "SiIA70kIenb4",
    "outputId": "791bf51f-5d59-4d1d-d5a6-e3b15633acb7"
   },
   "outputs": [
    {
     "name": "stdout",
     "output_type": "stream",
     "text": [
      "Accuracy value:  0.49712753734201454\n"
     ]
    }
   ],
   "source": [
    "print('Accuracy value: ',results[0])\n",
    "conf_matrix = results[1]"
   ]
  },
  {
   "cell_type": "code",
   "execution_count": 21,
   "metadata": {
    "colab": {
     "base_uri": "https://localhost:8080/"
    },
    "id": "h1Q3rmJ9enZx",
    "outputId": "fdaebc15-05f3-46a2-f5a6-58eb12583420",
    "scrolled": true
   },
   "outputs": [
    {
     "data": {
      "text/plain": [
       "array([[   0, 5252],\n",
       "       [   0, 5192]], dtype=int64)"
      ]
     },
     "execution_count": 21,
     "metadata": {},
     "output_type": "execute_result"
    }
   ],
   "source": [
    "conf_matrix"
   ]
  },
  {
   "cell_type": "code",
   "execution_count": null,
   "metadata": {},
   "outputs": [],
   "source": []
  },
  {
   "cell_type": "markdown",
   "metadata": {
    "id": "s4CnKhYakYOF"
   },
   "source": [
    "**For the chosen classifier, get predictions for the official test set associated to the best hyperparameter configuration.**"
   ]
  },
  {
   "cell_type": "code",
   "execution_count": 22,
   "metadata": {},
   "outputs": [],
   "source": [
    "test_df = pd.read_csv('emb_test.csv',nrows=100)"
   ]
  },
  {
   "cell_type": "code",
   "execution_count": 23,
   "metadata": {},
   "outputs": [],
   "source": [
    "test_set = test_df.claim_embedding\n",
    "#convert string to list \n",
    "x_test = [n.strip('][').split(', ') for n in test_set]"
   ]
  },
  {
   "cell_type": "code",
   "execution_count": 25,
   "metadata": {},
   "outputs": [],
   "source": [
    "# load the trained model from disk\n",
    "SVM = pickle.load(open('SVM.sav', 'rb'))\n",
    "# get predictions for the official test set \n",
    "pred_test = SVM.predict(x_test)"
   ]
  },
  {
   "cell_type": "code",
   "execution_count": 27,
   "metadata": {
    "scrolled": false
   },
   "outputs": [
    {
     "data": {
      "text/plain": [
       "array([1, 1, 1, 1, 1, 1, 1, 1, 1, 1, 1, 1, 1, 1, 1, 1, 1, 1, 1, 1, 1, 1,\n",
       "       1, 1, 1, 1, 1, 1, 1, 1, 1, 1, 1, 1, 1, 1, 1, 1, 1, 1, 1, 1, 1, 1,\n",
       "       1, 1, 1, 1, 1, 1, 1, 1, 1, 1, 1, 1, 1, 1, 1, 1, 1, 1, 1, 1, 1, 1,\n",
       "       1, 1, 1, 1, 1, 1, 1, 1, 1, 1, 1, 1, 1, 1, 1, 1, 1, 1, 1, 1, 1, 1,\n",
       "       1, 1, 1, 1, 1, 1, 1, 1, 1, 1, 1, 1], dtype=int64)"
      ]
     },
     "execution_count": 27,
     "metadata": {},
     "output_type": "execute_result"
    }
   ],
   "source": [
    "pred_test"
   ]
  },
  {
   "cell_type": "code",
   "execution_count": 175,
   "metadata": {},
   "outputs": [],
   "source": [
    "with open('emb_test.csv', 'r') as read_obj:\n",
    "    # pass the file object to DictReader() to get the DictReader object\n",
    "    dict_reader = DictReader(read_obj)\n",
    "    # get a list of dictionaries from dict_reader\n",
    "    json_test = list(dict_reader)\n",
    "\n",
    "    #delete the useless fields    \n",
    "for i in range(len(json_test)):\n",
    "    del json_test[i]['claim_embedding'], json_test[i]['input']"
   ]
  },
  {
   "cell_type": "code",
   "execution_count": 180,
   "metadata": {},
   "outputs": [],
   "source": [
    "for index in range(len(json_test)):\n",
    "    for i in range(len(pred_test)): #questo if quando viene girato su tutto il dataset non dovrebbe servire\n",
    "        if pred_test[i]==1:\n",
    "            json_test[index]['answer']= {'label':'SUPPORT'}\n",
    "        else:\n",
    "            json_test[index]['answer']= {'label':'REFUTES'}"
   ]
  },
  {
   "cell_type": "markdown",
   "metadata": {
    "id": "tDDcB8hgwEjn"
   },
   "source": [
    "**Put the predictions in a file named “test_set_pred_1.jsonl”**"
   ]
  },
  {
   "cell_type": "code",
   "execution_count": 185,
   "metadata": {
    "id": "T-A5a52JjSGt"
   },
   "outputs": [],
   "source": [
    "# save the prediction into a file\n",
    "with jsonlines.open('test_set_pred.jsonl', mode = 'w') as writer:\n",
    "    writer.write(json_test)"
   ]
  }
 ],
 "metadata": {
  "accelerator": "GPU",
  "colab": {
   "collapsed_sections": [],
   "name": "Point1_2.ipynb",
   "provenance": [],
   "toc_visible": true
  },
  "kernelspec": {
   "display_name": "Python 3",
   "language": "python",
   "name": "python3"
  },
  "language_info": {
   "codemirror_mode": {
    "name": "ipython",
    "version": 3
   },
   "file_extension": ".py",
   "mimetype": "text/x-python",
   "name": "python",
   "nbconvert_exporter": "python",
   "pygments_lexer": "ipython3",
   "version": "3.9.1"
  }
 },
 "nbformat": 4,
 "nbformat_minor": 1
}
