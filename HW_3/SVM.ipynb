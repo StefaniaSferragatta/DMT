{
 "cells": [
  {
   "cell_type": "code",
   "execution_count": 1,
   "metadata": {},
   "outputs": [],
   "source": [
    "# utilities\n",
    "import pandas as pd\n",
    "import jsonlines\n",
    "import json\n",
    "import pickle\n",
    "import numpy as np\n",
    "import ast\n",
    "from csv import DictReader\n",
    "\n",
    "# model training\n",
    "#for binary classification\n",
    "from sklearn import svm\n",
    "#for hyperparams tuning\n",
    "from sklearn.model_selection import RandomizedSearchCV\n",
    "#for the confusion matrix\n",
    "from sklearn import metrics\n",
    "\n",
    "#visualization \n",
    "import seaborn as sns\n",
    "import matplotlib.pyplot as plt"
   ]
  },
  {
   "cell_type": "code",
   "execution_count": 2,
   "metadata": {},
   "outputs": [],
   "source": [
    "dev_df = pd.read_csv('emb_dev.csv')#,nrows=100)\n",
    "test_df = pd.read_csv('emb_test.csv')#,nrows=100)\n",
    "train_df = pd.read_csv('emb_train.csv')#,nrows=100)"
   ]
  },
  {
   "cell_type": "code",
   "execution_count": 3,
   "metadata": {},
   "outputs": [],
   "source": [
    "''' Method to modify the dataset taking only the usefull fields 'output' and 'claim_embedding' and convert the output's values into binary values for the classification\n",
    "  Input: dataframe to modify\n",
    "  Output: modified dataframe\n",
    "'''\n",
    "def modify_df(df):  \n",
    "    #delete the useless columns\n",
    "    del df['id']\n",
    "    del df['input']\n",
    "    \n",
    "    list_item=[]\n",
    "    list_values=[]\n",
    "    \n",
    "    #extract the items from the output column\n",
    "    series_output = pd.DataFrame(df['output'])\n",
    "    for item in series_output['output']:\n",
    "        #to convert the string of list into list of dict\n",
    "        list_item=ast.literal_eval(item)\n",
    "        # change values to represent labels as 0 (\"REFUTES\") and 1 (\"SUPPORTS\") and add them to a list\n",
    "        for i in list_item:\n",
    "            if (i['answer'] == 'REFUTES'):\n",
    "                list_values.append(0)\n",
    "            else:\n",
    "                list_values.append(1)\n",
    "\n",
    "    #create a new column of the df with the list of zeros and ones \n",
    "    df['labels'] = list_values\n",
    "    #delete the output column\n",
    "    del df['output']\n",
    "    return df "
   ]
  },
  {
   "cell_type": "code",
   "execution_count": 4,
   "metadata": {},
   "outputs": [],
   "source": [
    "# obtain the dataset processed \n",
    "dev = modify_df(dev_df)\n",
    "train = modify_df(train_df)"
   ]
  },
  {
   "cell_type": "markdown",
   "metadata": {},
   "source": [
    "For training the classification model, firstly we split the datasets"
   ]
  },
  {
   "cell_type": "code",
   "execution_count": 5,
   "metadata": {},
   "outputs": [],
   "source": [
    "x_train_emb = train['claim_embedding']\n",
    "#convert string to list \n",
    "x_train = [n.strip('][').split(', ') for n in x_train_emb]\n",
    "\n",
    "y_train = train.labels"
   ]
  },
  {
   "cell_type": "code",
   "execution_count": 6,
   "metadata": {},
   "outputs": [],
   "source": [
    "x_dev_emb = dev['claim_embedding']\n",
    "#convert string to list \n",
    "x_dev = [n.strip('][').split(', ') for n in x_dev_emb]\n",
    "\n",
    "y_dev = dev.labels"
   ]
  },
  {
   "cell_type": "code",
   "execution_count": 7,
   "metadata": {},
   "outputs": [],
   "source": [
    "test_set = test_df.claim_embedding\n",
    "#convert string to list \n",
    "x_test = [n.strip('][').split(', ') for n in test_set]"
   ]
  },
  {
   "cell_type": "markdown",
   "metadata": {},
   "source": [
    "# SVM\n",
    "### Tuning on the dev set\n",
    "Function for tuning the hyperparameters. It returns the best params to use for the SVM"
   ]
  },
  {
   "cell_type": "code",
   "execution_count": 8,
   "metadata": {},
   "outputs": [],
   "source": [
    "''' Method for tuning the hyperparameters\n",
    "  Input: splitted dev set into x and y for the fit of the RandomizedSearchCV\n",
    "  Output: best params to use for the SVM\n",
    "'''\n",
    "def tuning(x_dev,y_dev):\n",
    "    # define the parameter values that should be searched\n",
    "    C_range= list(np.arange(1,5,0.5))\n",
    "    kernel = ['linear', 'poly', 'rbf', 'sigmoid']\n",
    "    gamma = ['auto', 'scale']\n",
    "    probability = [True,False] # different types of distances (manhattan, euclidean, minkowksi)\n",
    "    decision_function_shape= ['ovo', 'ovr']\n",
    "    random_state_range=list(range(2,42,10))\n",
    "    \n",
    "    # save the \"parameter grid\"\n",
    "    param_grid = dict(C=C_range,kernel=kernel, gamma=gamma,\\\n",
    "                      decision_function_shape=decision_function_shape,\\\n",
    "                      random_state=random_state_range,probability=probability)\n",
    "    \n",
    "    print('Params grid: ',param_grid) #need this for the report\n",
    "\n",
    "    #define the classification model chosen\n",
    "    model = svm.SVC()\n",
    "    rand = RandomizedSearchCV(model, param_grid, cv=5, scoring='accuracy', n_iter=10, random_state=5, n_jobs=-1)\n",
    "    rand.fit(x_dev, y_dev)\n",
    "    rand.cv_results_\n",
    "    \n",
    "    # examine the best model\n",
    "    print('Rand. Best Score: ', rand.best_score_)\n",
    "    #save the optimize parameters\n",
    "    best_param = rand.best_params_\n",
    "    #return the tuning params for the model\n",
    "    return best_param "
   ]
  },
  {
   "cell_type": "code",
   "execution_count": 9,
   "metadata": {},
   "outputs": [
    {
     "name": "stdout",
     "output_type": "stream",
     "text": [
      "Params grid:  {'C': [1.0, 1.5, 2.0, 2.5, 3.0, 3.5, 4.0, 4.5], 'kernel': ['linear', 'poly', 'rbf', 'sigmoid'], 'gamma': ['auto', 'scale'], 'decision_function_shape': ['ovo', 'ovr'], 'random_state': [2, 12, 22, 32], 'probability': [True, False]}\n",
      "Rand. Best Score:  0.9981804892989918\n"
     ]
    }
   ],
   "source": [
    "params = tuning(x_dev,y_dev) #dict of best parameters for the classifier"
   ]
  },
  {
   "cell_type": "markdown",
   "metadata": {},
   "source": [
    "#### Now using the best parameter obtained by the tuning with the RandomizedSearchCV, we can train the train_set with the SVM"
   ]
  },
  {
   "cell_type": "code",
   "execution_count": 10,
   "metadata": {},
   "outputs": [],
   "source": [
    "''' Method for training the model using the SVC() as binary classifier. After the training, the model is saved into a pickle file\n",
    "  Input: dictionary of the tuned parameters, train set splitted in feature and target (x_train, y_train)\n",
    "'''\n",
    "def classifier(params, x_train, y_train):\n",
    "    #train the model using the optimized params obtained in the tuning\n",
    "    SVM = svm.SVC(C=params['C'],gamma=params['gamma'],decision_function_shape=params['decision_function_shape'],\\\n",
    "                 kernel=params['kernel'],probability=params['probability'],random_state=params['random_state'])\n",
    "    \n",
    "    #fit the model\n",
    "    SVM.fit(x_train, y_train)\n",
    "    \n",
    "    # save the model to disk\n",
    "    filename = 'SVM.sav'\n",
    "    pickle.dump(SVM, open(filename, 'wb'))"
   ]
  },
  {
   "cell_type": "code",
   "execution_count": 11,
   "metadata": {},
   "outputs": [],
   "source": [
    "classifier(params, x_train, y_train)"
   ]
  },
  {
   "cell_type": "markdown",
   "metadata": {},
   "source": [
    "DO CLASS PREDICTION ON THE SAVED MODEL "
   ]
  },
  {
   "cell_type": "code",
   "execution_count": 12,
   "metadata": {},
   "outputs": [],
   "source": [
    "# load the trained model from disk\n",
    "SVM = pickle.load(open('SVM.sav', 'rb'))"
   ]
  },
  {
   "cell_type": "code",
   "execution_count": 13,
   "metadata": {},
   "outputs": [],
   "source": [
    "# make class predictions for the dev set, we need this to evaluate the model\n",
    "y_pred_class = SVM.predict(x_dev)"
   ]
  },
  {
   "cell_type": "markdown",
   "metadata": {},
   "source": [
    "EVALUATE THE MODEL"
   ]
  },
  {
   "cell_type": "code",
   "execution_count": 14,
   "metadata": {},
   "outputs": [],
   "source": [
    "''' Function for the evaluation of the model. Using the metrics function from the library sklearn, here we compute the accuracy_score, the confusion_matrix and the precision and recall of the targets 'SUPPORTS', 'REFUTES'.\n",
    "  Input: y_dev, predicted class\n",
    "  Output: accuracy score,confusion matrix,precision score,recall score\n",
    "'''\n",
    "def evaluation(y_dev,y_pred_class):    \n",
    "    # compute the accuracy \n",
    "    accuracy = metrics.accuracy_score(y_dev, y_pred_class)\n",
    "    \n",
    "    #build the confusion matrix and plot it\n",
    "    confusion = metrics.confusion_matrix(y_dev, y_pred_class)\n",
    "                #[row, column]\n",
    "    TP = confusion[1, 1]\n",
    "    TN = confusion[0, 0]\n",
    "    FP = confusion[0, 1]\n",
    "    FN = confusion[1, 0]\n",
    "    \n",
    "    # visualize Confusion Matrix\n",
    "    sns.heatmap(confusion,annot=True,fmt=\"d\") \n",
    "    plt.title('Confusion Matrix')\n",
    "    plt.xlabel('Predicted')\n",
    "    plt.ylabel('Actual')\n",
    "    plt.show()\n",
    "    \n",
    "    # compute the precision and the recall on the label and print them\n",
    "    target_names = ['SUPPORTS', 'REFUTES']\n",
    "    print(metrics.classification_report(y_dev, y_pred_class, target_names=target_names))\n",
    "    \n",
    "    return accuracy,confusion"
   ]
  },
  {
   "cell_type": "code",
   "execution_count": 15,
   "metadata": {},
   "outputs": [
    {
     "data": {
      "image/png": "[encoded data removed]",
      "text/plain": [
       "<Figure size 432x288 with 2 Axes>"
      ]
     },
     "metadata": {
      "needs_background": "light"
     },
     "output_type": "display_data"
    },
    {
     "name": "stdout",
     "output_type": "stream",
     "text": [
      "              precision    recall  f1-score   support\n",
      "\n",
      "    SUPPORTS       1.00      1.00      1.00      5252\n",
      "     REFUTES       1.00      1.00      1.00      5192\n",
      "\n",
      "    accuracy                           1.00     10444\n",
      "   macro avg       1.00      1.00      1.00     10444\n",
      "weighted avg       1.00      1.00      1.00     10444\n",
      "\n"
     ]
    }
   ],
   "source": [
    "results = evaluation(y_dev,y_pred_class)"
   ]
  },
  {
   "cell_type": "code",
   "execution_count": 16,
   "metadata": {},
   "outputs": [
    {
     "name": "stdout",
     "output_type": "stream",
     "text": [
      "Accuracy value:  0.9982765224052087\n"
     ]
    }
   ],
   "source": [
    "print('Accuracy value: ',results[0])\n",
    "conf_matrix = results[1]"
   ]
  },
  {
   "cell_type": "code",
   "execution_count": 17,
   "metadata": {},
   "outputs": [
    {
     "data": {
      "text/plain": [
       "array([[5236,   16],\n",
       "       [   2, 5190]], dtype=int64)"
      ]
     },
     "execution_count": 17,
     "metadata": {},
     "output_type": "execute_result"
    }
   ],
   "source": [
    "conf_matrix"
   ]
  },
  {
   "cell_type": "code",
   "execution_count": 18,
   "metadata": {},
   "outputs": [
    {
     "name": "stdout",
     "output_type": "stream",
     "text": [
      "F1 value:  0.9982688978649741\n"
     ]
    }
   ],
   "source": [
    "print('F1 value: ', metrics.f1_score(y_dev, y_pred_class))"
   ]
  },
  {
   "cell_type": "markdown",
   "metadata": {},
   "source": [
    "**For the chosen classifier, get predictions for the official test set associated to the best hyperparameter configuration.**"
   ]
  },
  {
   "cell_type": "code",
   "execution_count": 25,
   "metadata": {},
   "outputs": [],
   "source": [
    "test_df = pd.read_csv('emb_test.csv')"
   ]
  },
  {
   "cell_type": "code",
   "execution_count": 26,
   "metadata": {},
   "outputs": [],
   "source": [
    "test_set = test_df.claim_embedding\n",
    "#convert string to list \n",
    "x_test = [n.strip('][').split(', ') for n in test_set]"
   ]
  },
  {
   "cell_type": "code",
   "execution_count": 27,
   "metadata": {},
   "outputs": [],
   "source": [
    "# load the trained model from disk\n",
    "SVM = pickle.load(open('SVM.sav', 'rb'))\n",
    "# get predictions for the official test set \n",
    "pred_test = SVM.predict(x_test)"
   ]
  },
  {
   "cell_type": "code",
   "execution_count": 28,
   "metadata": {},
   "outputs": [],
   "source": [
    "with open('emb_test.csv', 'r') as read_obj:\n",
    "    # pass the file object to DictReader() to get the DictReader object\n",
    "    dict_reader = DictReader(read_obj)\n",
    "    # get a list of dictionaries from dict_reader\n",
    "    json_test = list(dict_reader)\n",
    "\n",
    "    #delete the useless fields    \n",
    "for i in range(len(json_test)):\n",
    "    del json_test[i]['claim_embedding'], json_test[i]['input']"
   ]
  },
  {
   "cell_type": "code",
   "execution_count": 29,
   "metadata": {},
   "outputs": [],
   "source": [
    "for index in range(len(json_test)): \n",
    "    if pred_test[index]==1:\n",
    "        json_test[index]['output']= [{'answer':\"SUPPORT\"}]\n",
    "    else:\n",
    "        json_test[index]['output']= [{'answer':\"REFUTES\"}]"
   ]
  },
  {
   "cell_type": "markdown",
   "metadata": {},
   "source": [
    "**Put the predictions in a file named “test_set_pred_2.jsonl”**"
   ]
  },
  {
   "cell_type": "code",
   "execution_count": 30,
   "metadata": {},
   "outputs": [],
   "source": [
    "# save the prediction into a file\n",
    "with jsonlines.open('test_set_pred_2.jsonl', mode = 'w') as writer:\n",
    "    writer.write(json_test)"
   ]
  },
  {
   "cell_type": "code",
   "execution_count": null,
   "metadata": {},
   "outputs": [],
   "source": []
  },
  {
   "cell_type": "code",
   "execution_count": null,
   "metadata": {},
   "outputs": [],
   "source": []
  }
 ],
 "metadata": {
  "kernelspec": {
   "display_name": "Python 3",
   "language": "python",
   "name": "python3"
  },
  "language_info": {
   "codemirror_mode": {
    "name": "ipython",
    "version": 3
   },
   "file_extension": ".py",
   "mimetype": "text/x-python",
   "name": "python",
   "nbconvert_exporter": "python",
   "pygments_lexer": "ipython3",
   "version": "3.9.1"
  }
 },
 "nbformat": 4,
 "nbformat_minor": 4
}
