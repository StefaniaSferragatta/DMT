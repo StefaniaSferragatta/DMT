{
 "cells": [
  {
   "cell_type": "code",
   "execution_count": 1,
   "metadata": {},
   "outputs": [],
   "source": [
    "from surprise import Dataset,Reader \n",
    "from surprise import SVD,KNNBaseline\n",
    "from surprise.model_selection import KFold, cross_validate\n",
    "from surprise.model_selection import GridSearchCV,RandomizedSearchCV\n",
    "import numpy as np\n",
    "import pandas as pd\n",
    "import time\n",
    "import os"
   ]
  },
  {
   "cell_type": "code",
   "execution_count": 2,
   "metadata": {},
   "outputs": [
    {
     "name": "stdout",
     "output_type": "stream",
     "text": [
      "Loading Dataset1...\n",
      "Done.\n"
     ]
    }
   ],
   "source": [
    "#load dataset1\n",
    "file_path = os.path.expanduser('./ratings_1.csv')\n",
    "print(\"Loading Dataset1...\")\n",
    "reader = Reader(line_format='user item rating', sep=',', rating_scale=[1, 5], skip_lines=1)\n",
    "data1 = Dataset.load_from_file(file_path, reader=reader)\n",
    "print(\"Done.\")"
   ]
  },
  {
   "cell_type": "code",
   "execution_count": 3,
   "metadata": {},
   "outputs": [
    {
     "name": "stdout",
     "output_type": "stream",
     "text": [
      "Loading Dataset2...\n",
      "Done.\n"
     ]
    }
   ],
   "source": [
    "#load dataset2\n",
    "file_path = os.path.expanduser('./ratings_2.csv')\n",
    "print(\"Loading Dataset2...\")\n",
    "reader2 = Reader(line_format='user item rating', sep=',', rating_scale=[1, 10], skip_lines=1)\n",
    "data2 = Dataset.load_from_file(file_path, reader=reader2)\n",
    "print(\"Done.\")"
   ]
  },
  {
   "cell_type": "markdown",
   "metadata": {},
   "source": [
    "## Performing a Random-Search-Cross-Validation process for tuning the hyper-parameter of the KNNBaseline algorithm"
   ]
  },
  {
   "cell_type": "code",
   "execution_count": 79,
   "metadata": {},
   "outputs": [],
   "source": [
    "def tuning_KNNBaseline(data): \n",
    "    param_grid = { \n",
    "                \"k\":[5,10,20,25], #[20,40,50,60], \n",
    "                \"min_k\":[1,5,7,9,13],#[1,3,5,8,11,13,15,18,21],\n",
    "                \"sim_options\":{\n",
    "                               'name': [\"cosine\",\"pearson_baseline\"],  \n",
    "                               'user_based': [True, False],  \n",
    "                               'min_support': [1,5,10,12]#[3,5,8,11,13]\n",
    "                                },\n",
    "                \"bsl_options\":{\n",
    "                            'method': ['sgd'],\n",
    "                            'learning_rate':[0.001,0.007,0.1],#[0.002,0.005,0.01],\n",
    "                            'n_epochs':[20,30,40],#[50,100,150],\n",
    "                            'reg': [0.01,0.03,0.06]#[0.01,0.02,0.05]\n",
    "                            }\n",
    "                }\n",
    "    start=time.time()\n",
    "    rcv = RandomizedSearchCV(KNNBaseline, param_grid, measures=['rmse'], cv=5,n_jobs=4) \n",
    "    rcv.fit(data)\n",
    "    ex_time= round(time.time()-start,2)\n",
    "    best_score = rcv.best_score['rmse']\n",
    "    best_param = rcv.best_params['rmse']\n",
    "    return (ex_time,best_score,best_param)"
   ]
  },
  {
   "cell_type": "markdown",
   "metadata": {},
   "source": [
    "#### Tuning dataset1"
   ]
  },
  {
   "cell_type": "code",
   "execution_count": 278,
   "metadata": {},
   "outputs": [
    {
     "name": "stdout",
     "output_type": "stream",
     "text": [
      "Execution time for dataset1:  234.04 s\n",
      "\n",
      "Best score for dataset1:  0.8950040775399983\n",
      "\n",
      "{'k': 25, 'min_k': 13, 'sim_options': {'name': 'pearson_baseline', 'user_based': True, 'min_support': 10}, 'bsl_options': {'method': 'sgd', 'learning_rate': 0.007, 'n_epochs': 30, 'reg': 0.01}}\n"
     ]
    }
   ],
   "source": [
    "randcv_dt1 = tuning_KNNBaseline(data1)\n",
    "time1 = randcv_dt1[0]\n",
    "print(\"Execution time for dataset1: \", round(time1,2),'s')\n",
    "print()\n",
    "best_score1 = randcv_dt1[1]\n",
    "print(\"Best score for dataset1: \",best_score1)\n",
    "print()\n",
    "best_param1 = randcv_dt1[2]\n",
    "print(best_param1)"
   ]
  },
  {
   "cell_type": "markdown",
   "metadata": {},
   "source": [
    "### Average-RMSE associated to the two best estimators you tuned for dataset1"
   ]
  },
  {
   "cell_type": "code",
   "execution_count": 23,
   "metadata": {
    "scrolled": true
   },
   "outputs": [
    {
     "name": "stdout",
     "output_type": "stream",
     "text": [
      "Evaluating RMSE of algorithm KNNBaseline on 5 split(s).\n",
      "\n",
      "                  Fold 1  Fold 2  Fold 3  Fold 4  Fold 5  Mean    Std     \n",
      "RMSE (testset)    0.8864  0.8900  0.8847  0.8913  0.8921  0.8889  0.0029  \n",
      "Fit time          12.02   12.01   11.92   12.13   10.54   11.72   0.60    \n",
      "Test time         21.89   21.96   22.32   22.16   15.07   20.68   2.81    \n"
     ]
    },
    {
     "data": {
      "text/plain": [
       "{'test_rmse': array([0.88635856, 0.8899913 , 0.88470392, 0.8913291 , 0.89212135]),\n",
       " 'fit_time': (12.015504360198975,\n",
       "  12.005348682403564,\n",
       "  11.920779466629028,\n",
       "  12.129212141036987,\n",
       "  10.53655743598938),\n",
       " 'test_time': (21.89350152015686,\n",
       "  21.958795070648193,\n",
       "  22.317030906677246,\n",
       "  22.157458543777466,\n",
       "  15.07177209854126)}"
      ]
     },
     "execution_count": 23,
     "metadata": {},
     "output_type": "execute_result"
    }
   ],
   "source": [
    "#DATASET1 - KNNBASELINE\n",
    "kf = KFold(n_splits=5, random_state=0)\n",
    "current_algo=KNNBaseline(k=50, min_k=11, sim_options={'name': 'pearson_baseline', 'user_based':False,'min_support': 13}, bsl_options= {'method': 'sgd','learning_rate':0.005,'n_epochs': 50,'reg':0.05},verbose=True)\n",
    "cross_validate(current_algo, data1, measures=['RMSE'], cv=kf,n_jobs=4, verbose=True)"
   ]
  },
  {
   "cell_type": "markdown",
   "metadata": {},
   "source": [
    "#### Tuning dataset2"
   ]
  },
  {
   "cell_type": "code",
   "execution_count": 80,
   "metadata": {},
   "outputs": [
    {
     "name": "stdout",
     "output_type": "stream",
     "text": [
      "Execution time for dataset2:  10.08 s\n",
      "\n",
      "Best score for dataset2:  1.8623538518570164\n",
      "\n",
      "{'k': 25, 'min_k': 9, 'sim_options': {'name': 'pearson_baseline', 'user_based': True, 'min_support': 10}, 'bsl_options': {'method': 'sgd', 'learning_rate': 0.001, 'n_epochs': 40, 'reg': 0.01}}\n"
     ]
    }
   ],
   "source": [
    "randcv_dt2 = tuning_KNNBaseline(data2)\n",
    "time2 = randcv_dt2[0]\n",
    "print(\"Execution time for dataset2: \", round(time2,2), 's')\n",
    "print()\n",
    "best_score2 = randcv_dt2[1]\n",
    "print(\"Best score for dataset2: \",best_score2)\n",
    "print()\n",
    "best_param2 = randcv_dt2[2]\n",
    "print(best_param2)"
   ]
  },
  {
   "cell_type": "markdown",
   "metadata": {},
   "source": [
    "### Average-RMSE associated to the two best estimators you tuned for dataset2"
   ]
  },
  {
   "cell_type": "code",
   "execution_count": 82,
   "metadata": {},
   "outputs": [
    {
     "name": "stdout",
     "output_type": "stream",
     "text": [
      "Evaluating RMSE of algorithm KNNBaseline on 5 split(s).\n",
      "\n",
      "                  Fold 1  Fold 2  Fold 3  Fold 4  Fold 5  Mean    Std     \n",
      "RMSE (testset)    1.8191  1.8738  1.8427  1.8429  1.8457  1.8448  0.0174  \n",
      "Fit time          0.51    0.47    0.56    0.52    0.33    0.48    0.08    \n",
      "Test time         0.94    0.92    0.86    0.93    0.47    0.82    0.18    \n"
     ]
    },
    {
     "data": {
      "text/plain": [
       "{'test_rmse': array([1.81913605, 1.87377336, 1.84269099, 1.84289467, 1.84572359]),\n",
       " 'fit_time': (0.5133578777313232,\n",
       "  0.4686112403869629,\n",
       "  0.5618352890014648,\n",
       "  0.5236213207244873,\n",
       "  0.32998061180114746),\n",
       " 'test_time': (0.9425251483917236,\n",
       "  0.9194095134735107,\n",
       "  0.8574347496032715,\n",
       "  0.9269015789031982,\n",
       "  0.4675314426422119)}"
      ]
     },
     "execution_count": 82,
     "metadata": {},
     "output_type": "execute_result"
    }
   ],
   "source": [
    "#DATASET 2 - KNNBASELINE\n",
    "kf = KFold(n_splits=5, random_state=0)\n",
    "current_algo=KNNBaseline(k=25, min_k=9, sim_options={'name': 'pearson_baseline', 'user_based':True,'min_support':5}, bsl_options= {'method': 'sgd','learning_rate':0.001,'n_epochs': 30,'reg':0.01},verbose=True)\n",
    "cross_validate(current_algo, data2, measures=['RMSE'], cv=kf,n_jobs=4, verbose=True)"
   ]
  },
  {
   "cell_type": "markdown",
   "metadata": {},
   "source": [
    "## Tuning the hyper parameter of the SVD algorithm using a Grid-Search-Cross-Validation approach"
   ]
  },
  {
   "cell_type": "code",
   "execution_count": 275,
   "metadata": {},
   "outputs": [],
   "source": [
    "def tuning_SVD(data):    \n",
    "    param_grid = {\"n_factors\":[80,100,120,150],#[25,50,100,150],\n",
    "                  \"lr_all\": [0.005,0.008,0.1,0.5],#[0.005,0.01,0.5,1],\n",
    "                  \"init_mean\":[0.01,0.02,0.06,0.08],#[0.10,0.30,0.50,0.70],\n",
    "                  \"reg_all\":[0.06,0.1,0.4,0.5]#[0.01,0.05,0.07,0.1]\n",
    "                 }\n",
    "\n",
    "    start=time.time()\n",
    "    gs = GridSearchCV(SVD, param_grid, measures=['rmse'], cv=5,n_jobs=4) \n",
    "    gs.fit(data)\n",
    "    ex_time= round(time.time()-start,2)\n",
    "    best_score = gs.best_score['rmse']\n",
    "    best_param = gs.best_params['rmse']\n",
    "    return (ex_time,best_score,best_param)"
   ]
  },
  {
   "cell_type": "markdown",
   "metadata": {},
   "source": [
    "### DATASET1"
   ]
  },
  {
   "cell_type": "code",
   "execution_count": 279,
   "metadata": {},
   "outputs": [
    {
     "name": "stdout",
     "output_type": "stream",
     "text": [
      "Execution time for dataset1:  5060.02 s\n",
      "\n",
      "Best score for dataset1:  0.8882010233117079\n",
      "\n",
      "{'n_factors': 150, 'lr_all': 0.008, 'init_mean': 0.08, 'reg_all': 0.06}\n"
     ]
    }
   ],
   "source": [
    "grid_cv1 = tuning_SVD(data1)\n",
    "time1 = grid_cv1[0]\n",
    "print(\"Execution time for dataset1: \", round(time1,2),'s')\n",
    "print()\n",
    "best_score1 = grid_cv1[1]\n",
    "print(\"Best score for dataset1: \",best_score1)\n",
    "print()\n",
    "best_param1 = grid_cv1[2]\n",
    "print(best_param1)"
   ]
  },
  {
   "cell_type": "markdown",
   "metadata": {},
   "source": [
    "#### Average-RMSE associated to the two best estimators you tuned for dataset1"
   ]
  },
  {
   "cell_type": "code",
   "execution_count": 14,
   "metadata": {},
   "outputs": [
    {
     "name": "stdout",
     "output_type": "stream",
     "text": [
      "Evaluating RMSE of algorithm SVD on 5 split(s).\n",
      "\n",
      "                  Fold 1  Fold 2  Fold 3  Fold 4  Fold 5  Mean    Std     \n",
      "RMSE (testset)    0.8837  0.8850  0.8827  0.8888  0.8869  0.8854  0.0022  \n",
      "Fit time          20.97   20.73   20.79   21.27   12.07   19.17   3.55    \n",
      "Test time         1.17    1.19    1.22    1.12    0.40    1.02    0.31    \n"
     ]
    },
    {
     "data": {
      "text/plain": [
       "{'test_rmse': array([0.88369718, 0.88502727, 0.88269828, 0.8887968 , 0.88694707]),\n",
       " 'fit_time': (20.969177722930908,\n",
       "  20.73214864730835,\n",
       "  20.785199403762817,\n",
       "  21.27463412284851,\n",
       "  12.07303762435913),\n",
       " 'test_time': (1.165158748626709,\n",
       "  1.1925158500671387,\n",
       "  1.2241318225860596,\n",
       "  1.1227946281433105,\n",
       "  0.39577412605285645)}"
      ]
     },
     "execution_count": 14,
     "metadata": {},
     "output_type": "execute_result"
    }
   ],
   "source": [
    "current_algo= SVD(n_factors=100,lr_all=0.01,init_mean= 0.1,reg_all=0.07)\n",
    "cross_validate(current_algo, data1, measures=['RMSE'],cv=kf, n_jobs=4,verbose=True )"
   ]
  },
  {
   "cell_type": "markdown",
   "metadata": {},
   "source": [
    "### DATASET2"
   ]
  },
  {
   "cell_type": "code",
   "execution_count": 276,
   "metadata": {},
   "outputs": [
    {
     "name": "stdout",
     "output_type": "stream",
     "text": [
      "Execution time for dataset2:  406.97 s\n",
      "\n",
      "Best score for dataset2:  1.8442059490805824\n",
      "\n",
      "{'n_factors': 150, 'lr_all': 0.008, 'init_mean': 0.02, 'reg_all': 0.1}\n"
     ]
    }
   ],
   "source": [
    "grid_cv2= tuning_SVD(data2)\n",
    "time2 = grid_cv2[0]\n",
    "print(\"Execution time for dataset2: \", round(time2,2),'s')\n",
    "print()\n",
    "best_score2 = grid_cv2[1]\n",
    "print(\"Best score for dataset2: \",best_score2)\n",
    "print()\n",
    "best_param2 = grid_cv2[2]\n",
    "print(best_param2)"
   ]
  },
  {
   "cell_type": "markdown",
   "metadata": {},
   "source": [
    "#### Average-RMSE associated to the two best estimators you tuned for dataset2"
   ]
  },
  {
   "cell_type": "code",
   "execution_count": 277,
   "metadata": {},
   "outputs": [
    {
     "name": "stdout",
     "output_type": "stream",
     "text": [
      "Evaluating RMSE of algorithm SVD on 5 split(s).\n",
      "\n",
      "                  Fold 1  Fold 2  Fold 3  Fold 4  Fold 5  Mean    Std     \n",
      "RMSE (testset)    1.8355  1.8674  1.8520  1.8540  1.8561  1.8530  0.0103  \n",
      "Fit time          1.41    1.46    1.51    1.60    0.92    1.38    0.24    \n",
      "Test time         0.03    0.03    0.03    0.04    0.02    0.03    0.01    \n"
     ]
    },
    {
     "data": {
      "text/plain": [
       "{'test_rmse': array([1.83550514, 1.86743343, 1.85196471, 1.85395224, 1.8560896 ]),\n",
       " 'fit_time': (1.4106719493865967,\n",
       "  1.4581594467163086,\n",
       "  1.5050315856933594,\n",
       "  1.598637342453003,\n",
       "  0.920992374420166),\n",
       " 'test_time': (0.031245946884155273,\n",
       "  0.03124523162841797,\n",
       "  0.03124833106994629,\n",
       "  0.04499650001525879,\n",
       "  0.015651702880859375)}"
      ]
     },
     "execution_count": 277,
     "metadata": {},
     "output_type": "execute_result"
    }
   ],
   "source": [
    "current_algo= SVD(n_factors=150, lr_all=0.008,init_mean=0.02,reg_all=0.1)\n",
    "cross_validate(current_algo, data2, measures=['RMSE'], cv=kf, n_jobs=4, verbose=True)"
   ]
  }
 ],
 "metadata": {
  "kernelspec": {
   "display_name": "Python 3",
   "language": "python",
   "name": "python3"
  },
  "language_info": {
   "codemirror_mode": {
    "name": "ipython",
    "version": 3
   },
   "file_extension": ".py",
   "mimetype": "text/x-python",
   "name": "python",
   "nbconvert_exporter": "python",
   "pygments_lexer": "ipython3",
   "version": "3.8.5"
  }
 },
 "nbformat": 4,
 "nbformat_minor": 4
}
