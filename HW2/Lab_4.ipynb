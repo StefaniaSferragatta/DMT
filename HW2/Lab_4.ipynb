{
 "cells": [
  {
   "cell_type": "markdown",
   "metadata": {},
   "source": [
    "- Load the built-in ready-to-use dataset “ml-100k”.\n",
    "- Initialize a 5-Fold cross validation.\n",
    "- Performa 5-Fold cross validation for a NormalPredictor."
   ]
  },
  {
   "cell_type": "code",
   "execution_count": 17,
   "metadata": {},
   "outputs": [],
   "source": [
    "from surprise import Dataset\n",
    "from surprise import NormalPredictor\n",
    "from surprise import BaselineOnly\n",
    "from surprise.model_selection import KFold\n",
    "from surprise.model_selection import cross_validate"
   ]
  },
  {
   "cell_type": "code",
   "execution_count": 2,
   "metadata": {},
   "outputs": [
    {
     "name": "stdout",
     "output_type": "stream",
     "text": [
      "Dataset ml-100k could not be found. Do you want to download it? [Y/n] y\n",
      "Trying to download dataset from http://files.grouplens.org/datasets/movielens/ml-100k.zip...\n",
      "Done! Dataset ml-100k has been saved to C:\\Users\\Stefania/.surprise_data/ml-100k\n"
     ]
    }
   ],
   "source": [
    "data = Dataset.load_builtin('ml-100k')"
   ]
  },
  {
   "cell_type": "code",
   "execution_count": 10,
   "metadata": {},
   "outputs": [],
   "source": [
    "current_algo=NormalPredictor()"
   ]
  },
  {
   "cell_type": "code",
   "execution_count": 16,
   "metadata": {
    "scrolled": true
   },
   "outputs": [
    {
     "name": "stdout",
     "output_type": "stream",
     "text": [
      "Evaluating RMSE of algorithm NormalPredictor on 5 split(s).\n",
      "\n",
      "                  Fold 1  Fold 2  Fold 3  Fold 4  Fold 5  Mean    Std     \n",
      "RMSE (testset)    1.5179  1.5211  1.5208  1.5169  1.5178  1.5189  0.0017  \n",
      "Fit time          0.12    0.15    0.15    0.17    0.15    0.15    0.02    \n",
      "Test time         0.15    0.13    0.17    0.13    0.11    0.14    0.02    \n"
     ]
    },
    {
     "data": {
      "text/plain": [
       "{'test_rmse': array([1.51794696, 1.52112315, 1.52077064, 1.5168784 , 1.51778863]),\n",
       " 'fit_time': (0.11955142021179199,\n",
       "  0.1531822681427002,\n",
       "  0.15088772773742676,\n",
       "  0.16544413566589355,\n",
       "  0.15446233749389648),\n",
       " 'test_time': (0.14999890327453613,\n",
       "  0.1264040470123291,\n",
       "  0.16960644721984863,\n",
       "  0.12984514236450195,\n",
       "  0.10955500602722168)}"
      ]
     },
     "execution_count": 16,
     "metadata": {},
     "output_type": "execute_result"
    }
   ],
   "source": [
    "kf = KFold(n_splits=5, random_state=0)\n",
    "cross_validate(current_algo, data, measures=['RMSE'], cv=kf, verbose=True)"
   ]
  },
  {
   "cell_type": "markdown",
   "metadata": {},
   "source": [
    "Performa 5-Fold cross validation for a BaselineOnly predictor."
   ]
  },
  {
   "cell_type": "code",
   "execution_count": 18,
   "metadata": {},
   "outputs": [],
   "source": [
    "baseline_predictor_options = {   \n",
    "  'method': \"sgd\",  # Optimization method to use.\n",
    "  'learning_rate': 0.005,  # Learning rate parameter for the SGD optimization method.\n",
    "  'n_epochs': 50,  # The number of iteration for the SGD optimization method.\n",
    "  'reg': 0.02,  # The regularization parameter of the cost function that is optimized: a.k.a. LAMBDA.\n",
    "}\n",
    "current_algo = BaselineOnly(bsl_options=baseline_predictor_options, verbose=True)"
   ]
  },
  {
   "cell_type": "code",
   "execution_count": 19,
   "metadata": {},
   "outputs": [
    {
     "name": "stdout",
     "output_type": "stream",
     "text": [
      "Estimating biases using sgd...\n",
      "Estimating biases using sgd...\n",
      "Estimating biases using sgd...\n",
      "Estimating biases using sgd...\n",
      "Estimating biases using sgd...\n",
      "Evaluating RMSE of algorithm BaselineOnly on 5 split(s).\n",
      "\n",
      "                  Fold 1  Fold 2  Fold 3  Fold 4  Fold 5  Mean    Std     \n",
      "RMSE (testset)    0.9407  0.9363  0.9358  0.9380  0.9523  0.9406  0.0061  \n",
      "Fit time          1.18    1.31    1.27    1.31    1.33    1.28    0.05    \n",
      "Test time         0.14    0.10    0.15    0.10    0.09    0.11    0.02    \n"
     ]
    },
    {
     "data": {
      "text/plain": [
       "{'test_rmse': array([0.94070126, 0.93632291, 0.93584291, 0.93795782, 0.95234361]),\n",
       " 'fit_time': (1.1787664890289307,\n",
       "  1.3146498203277588,\n",
       "  1.2716658115386963,\n",
       "  1.310948371887207,\n",
       "  1.3283445835113525),\n",
       " 'test_time': (0.13500285148620605,\n",
       "  0.09871721267700195,\n",
       "  0.14895391464233398,\n",
       "  0.09906506538391113,\n",
       "  0.08602285385131836)}"
      ]
     },
     "execution_count": 19,
     "metadata": {},
     "output_type": "execute_result"
    }
   ],
   "source": [
    "kf = KFold(n_splits=5, random_state=0)\n",
    "cross_validate(current_algo, data, measures=['RMSE'], cv=kf, verbose=True)"
   ]
  },
  {
   "cell_type": "markdown",
   "metadata": {},
   "source": [
    "Performa 5-Fold cross validation for a KNNBasic, KNNWithMeans,KNNBaseline, and a KNNWithZScore predictor with the following setting: \n",
    "\n",
    "- MAXIMUM_number_of_neighbors_to_consider = 40, \n",
    "- min_number_of_neighbors_to_consider=1, \n",
    "- cosine-similarity as similarity measure,  \n",
    "- Item-Item-CF."
   ]
  },
  {
   "cell_type": "code",
   "execution_count": 20,
   "metadata": {},
   "outputs": [],
   "source": [
    "from surprise import KNNBasic\n",
    "from surprise import KNNWithMeans\n",
    "from surprise import KNNWithZScore\n",
    "from surprise import KNNBaseline"
   ]
  },
  {
   "cell_type": "code",
   "execution_count": 34,
   "metadata": {},
   "outputs": [
    {
     "name": "stdout",
     "output_type": "stream",
     "text": [
      "Computing the cosine similarity matrix...\n",
      "Done computing similarity matrix.\n",
      "Computing the cosine similarity matrix...\n",
      "Done computing similarity matrix.\n",
      "Computing the cosine similarity matrix...\n",
      "Done computing similarity matrix.\n",
      "Computing the cosine similarity matrix...\n",
      "Done computing similarity matrix.\n",
      "Computing the cosine similarity matrix...\n",
      "Done computing similarity matrix.\n",
      "Evaluating RMSE of algorithm KNNBasic on 5 split(s).\n",
      "\n",
      "                  Fold 1  Fold 2  Fold 3  Fold 4  Fold 5  Mean    Std     \n",
      "RMSE (testset)    1.0247  1.0248  1.0198  1.0279  1.0364  1.0267  0.0055  \n",
      "Fit time          2.06    2.14    2.02    2.09    2.07    2.08    0.04    \n",
      "Test time         3.89    4.14    3.77    3.64    4.03    3.89    0.18    \n"
     ]
    },
    {
     "data": {
      "text/plain": [
       "{'test_rmse': array([1.02466884, 1.02480489, 1.0198255 , 1.02786305, 1.03635854]),\n",
       " 'fit_time': (2.061877727508545,\n",
       "  2.1435813903808594,\n",
       "  2.020740509033203,\n",
       "  2.0866713523864746,\n",
       "  2.0668675899505615),\n",
       " 'test_time': (3.894310712814331,\n",
       "  4.136485576629639,\n",
       "  3.772907257080078,\n",
       "  3.639007568359375,\n",
       "  4.032192707061768)}"
      ]
     },
     "execution_count": 34,
     "metadata": {},
     "output_type": "execute_result"
    }
   ],
   "source": [
    "MAXIMUM_number_of_neighbors_to_consider = 40  # The MAXIMUM number of neighbors to take into account for aggregation.\n",
    "min_number_of_neighbors_to_consider = 1  # The minimum number of neighbors to take into account for aggregation.\n",
    "\n",
    "# A dictionary of options for the similarity measure...\n",
    "similarity_options = {\n",
    "   'name': \"cosine\",  # The name of the similarity measure to use.\n",
    "   'user_based': False,  # True ==> UserUser-CF, False ==> ItemItem-CF\n",
    "   'min_support': 3, # The minimum number of common items/users for the similarity not to be zero.\n",
    "}\n",
    "\n",
    "current_algo = KNNBasic(k=MAXIMUM_number_of_neighbors_to_consider, min_k=min_number_of_neighbors_to_consider,\n",
    "                       sim_options=similarity_options, verbose=True)\n",
    "cross_validate(current_algo, data, measures=['RMSE'], cv=kf, verbose=True)"
   ]
  },
  {
   "cell_type": "code",
   "execution_count": 31,
   "metadata": {},
   "outputs": [
    {
     "name": "stdout",
     "output_type": "stream",
     "text": [
      "Computing the cosine similarity matrix...\n",
      "Done computing similarity matrix.\n",
      "Computing the cosine similarity matrix...\n",
      "Done computing similarity matrix.\n",
      "Computing the cosine similarity matrix...\n",
      "Done computing similarity matrix.\n",
      "Computing the cosine similarity matrix...\n",
      "Done computing similarity matrix.\n",
      "Computing the cosine similarity matrix...\n",
      "Done computing similarity matrix.\n",
      "Evaluating RMSE of algorithm KNNWithMeans on 5 split(s).\n",
      "\n",
      "                  Fold 1  Fold 2  Fold 3  Fold 4  Fold 5  Mean    Std     \n",
      "RMSE (testset)    0.9552  0.9470  0.9484  0.9491  0.9636  0.9527  0.0062  \n",
      "Fit time          1.59    1.53    1.64    1.62    1.71    1.62    0.06    \n",
      "Test time         3.85    3.71    3.88    3.96    3.87    3.85    0.08    \n"
     ]
    },
    {
     "data": {
      "text/plain": [
       "{'test_rmse': array([0.95518342, 0.94699612, 0.94842633, 0.94913334, 0.96364619]),\n",
       " 'fit_time': (1.5878148078918457,\n",
       "  1.530846118927002,\n",
       "  1.6391947269439697,\n",
       "  1.6154978275299072,\n",
       "  1.7088122367858887),\n",
       " 'test_time': (3.8533358573913574,\n",
       "  3.7051661014556885,\n",
       "  3.8808350563049316,\n",
       "  3.959610939025879,\n",
       "  3.870321750640869)}"
      ]
     },
     "execution_count": 31,
     "metadata": {},
     "output_type": "execute_result"
    }
   ],
   "source": [
    "current_algo = KNNWithMeans(k=MAXIMUM_number_of_neighbors_to_consider, min_k=min_number_of_neighbors_to_consider,\n",
    "                       sim_options=similarity_options, verbose=True)\n",
    "cross_validate(current_algo, data, measures=['RMSE'], cv=kf, verbose=True)"
   ]
  },
  {
   "cell_type": "code",
   "execution_count": 32,
   "metadata": {},
   "outputs": [
    {
     "name": "stdout",
     "output_type": "stream",
     "text": [
      "Estimating biases using als...\n",
      "Computing the cosine similarity matrix...\n",
      "Done computing similarity matrix.\n",
      "Estimating biases using als...\n",
      "Computing the cosine similarity matrix...\n",
      "Done computing similarity matrix.\n",
      "Estimating biases using als...\n",
      "Computing the cosine similarity matrix...\n",
      "Done computing similarity matrix.\n",
      "Estimating biases using als...\n",
      "Computing the cosine similarity matrix...\n",
      "Done computing similarity matrix.\n",
      "Estimating biases using als...\n",
      "Computing the cosine similarity matrix...\n",
      "Done computing similarity matrix.\n",
      "Evaluating RMSE of algorithm KNNBaseline on 5 split(s).\n",
      "\n",
      "                  Fold 1  Fold 2  Fold 3  Fold 4  Fold 5  Mean    Std     \n",
      "RMSE (testset)    0.9337  0.9273  0.9277  0.9292  0.9429  0.9322  0.0058  \n",
      "Fit time          1.74    1.76    1.74    1.76    1.99    1.80    0.10    \n",
      "Test time         3.97    3.96    3.87    4.57    4.92    4.26    0.41    \n"
     ]
    },
    {
     "data": {
      "text/plain": [
       "{'test_rmse': array([0.93367809, 0.92732184, 0.9277437 , 0.92919335, 0.94290789]),\n",
       " 'fit_time': (1.7417011260986328,\n",
       "  1.7638294696807861,\n",
       "  1.7361054420471191,\n",
       "  1.762596607208252,\n",
       "  1.9871490001678467),\n",
       " 'test_time': (3.9741878509521484,\n",
       "  3.9556076526641846,\n",
       "  3.867784023284912,\n",
       "  4.568339109420776,\n",
       "  4.915375709533691)}"
      ]
     },
     "execution_count": 32,
     "metadata": {},
     "output_type": "execute_result"
    }
   ],
   "source": [
    "current_algo = KNNBaseline(k=MAXIMUM_number_of_neighbors_to_consider, min_k=min_number_of_neighbors_to_consider,\n",
    "                       sim_options=similarity_options, verbose=True)\n",
    "cross_validate(current_algo, data, measures=['RMSE'], cv=kf, verbose=True)"
   ]
  },
  {
   "cell_type": "code",
   "execution_count": 33,
   "metadata": {},
   "outputs": [
    {
     "name": "stdout",
     "output_type": "stream",
     "text": [
      "Computing the cosine similarity matrix...\n",
      "Done computing similarity matrix.\n",
      "Computing the cosine similarity matrix...\n",
      "Done computing similarity matrix.\n",
      "Computing the cosine similarity matrix...\n",
      "Done computing similarity matrix.\n",
      "Computing the cosine similarity matrix...\n",
      "Done computing similarity matrix.\n",
      "Computing the cosine similarity matrix...\n",
      "Done computing similarity matrix.\n",
      "Evaluating RMSE of algorithm KNNWithZScore on 5 split(s).\n",
      "\n",
      "                  Fold 1  Fold 2  Fold 3  Fold 4  Fold 5  Mean    Std     \n",
      "RMSE (testset)    0.9556  0.9460  0.9466  0.9483  0.9635  0.9520  0.0067  \n",
      "Fit time          1.60    1.88    1.85    1.81    1.83    1.79    0.10    \n",
      "Test time         4.21    4.95    4.78    4.53    4.12    4.52    0.32    \n"
     ]
    },
    {
     "data": {
      "text/plain": [
       "{'test_rmse': array([0.95562515, 0.94599634, 0.94664607, 0.94831419, 0.96354793]),\n",
       " 'fit_time': (1.5978724956512451,\n",
       "  1.87992525100708,\n",
       "  1.8504774570465088,\n",
       "  1.8119285106658936,\n",
       "  1.8260457515716553),\n",
       " 'test_time': (4.205129861831665,\n",
       "  4.9462645053863525,\n",
       "  4.777954339981079,\n",
       "  4.528953790664673,\n",
       "  4.123730182647705)}"
      ]
     },
     "execution_count": 33,
     "metadata": {},
     "output_type": "execute_result"
    }
   ],
   "source": [
    "current_algo = KNNWithZScore(k=MAXIMUM_number_of_neighbors_to_consider, min_k=min_number_of_neighbors_to_consider,\n",
    "                       sim_options=similarity_options, verbose=True)\n",
    "cross_validate(current_algo, data, measures=['RMSE'], cv=kf, verbose=True)"
   ]
  },
  {
   "cell_type": "markdown",
   "metadata": {},
   "source": [
    "Performa 5-Fold cross validation for a SVD predictor with the following setting:\n",
    "- 100 factors, \n",
    "- #epochs_for_SGD=20, \n",
    "- learning rate for SGD=0.005 \n",
    "- regularization parameter equal to 0.02"
   ]
  },
  {
   "cell_type": "code",
   "execution_count": 28,
   "metadata": {},
   "outputs": [],
   "source": [
    "from surprise import SVD"
   ]
  },
  {
   "cell_type": "code",
   "execution_count": 36,
   "metadata": {},
   "outputs": [],
   "source": [
    "current_algo= SVD(n_factors=100,n_epochs=20)"
   ]
  },
  {
   "cell_type": "code",
   "execution_count": 38,
   "metadata": {
    "scrolled": true
   },
   "outputs": [
    {
     "name": "stdout",
     "output_type": "stream",
     "text": [
      "Evaluating RMSE, MAE of algorithm SVD on 5 split(s).\n",
      "\n",
      "                  Fold 1  Fold 2  Fold 3  Fold 4  Fold 5  Mean    Std     \n",
      "RMSE (testset)    0.9384  0.9342  0.9328  0.9358  0.9448  0.9372  0.0042  \n",
      "MAE (testset)     0.7396  0.7374  0.7346  0.7366  0.7459  0.7388  0.0039  \n",
      "Fit time          4.63    4.57    4.59    4.51    4.55    4.57    0.04    \n",
      "Test time         0.13    0.13    0.13    0.13    0.13    0.13    0.00    \n"
     ]
    },
    {
     "data": {
      "text/plain": [
       "{'test_rmse': array([0.93835798, 0.93419664, 0.93279659, 0.93577431, 0.94484147]),\n",
       " 'test_mae': array([0.73959353, 0.73736424, 0.73461526, 0.73659649, 0.74585904]),\n",
       " 'fit_time': (4.631938695907593,\n",
       "  4.565378904342651,\n",
       "  4.592122793197632,\n",
       "  4.510931968688965,\n",
       "  4.554087162017822),\n",
       " 'test_time': (0.1284184455871582,\n",
       "  0.13300204277038574,\n",
       "  0.13306260108947754,\n",
       "  0.1305408477783203,\n",
       "  0.1305525302886963)}"
      ]
     },
     "execution_count": 38,
     "metadata": {},
     "output_type": "execute_result"
    }
   ],
   "source": [
    "cross_validate(current_algo, data, measures=['RMSE','MAE'], cv=kf, verbose=True)"
   ]
  },
  {
   "cell_type": "markdown",
   "metadata": {},
   "source": [
    "## Hyperparameters optimization\n",
    "\n",
    "Perform a Grid-Search-Cross-Validation and a Randomized-Search-Cross-Validation for the KNNBasic method using more than one CPU-core with the following setting: \n",
    "- Use only 3-folds, \n",
    "- the MAXIMUM number of neighbors to take into account must be 20, 40 or 80, \n",
    "- the minimum number of neighbors to take into account must be 1 or 5, \n",
    "- cosine-similarity as similarity function with a minimum support of 3 elements, \n",
    "- both User-User and Item-Item KNN collaborative filtering approach must be evaluated."
   ]
  },
  {
   "cell_type": "code",
   "execution_count": 39,
   "metadata": {},
   "outputs": [],
   "source": [
    "from surprise.model_selection import GridSearchCV\n",
    "from surprise.model_selection import RandomizedSearchCV"
   ]
  },
  {
   "cell_type": "code",
   "execution_count": 40,
   "metadata": {},
   "outputs": [],
   "source": [
    "kf = KFold(n_splits=3, random_state=0)"
   ]
  },
  {
   "cell_type": "code",
   "execution_count": 41,
   "metadata": {},
   "outputs": [],
   "source": [
    "MAXIMUM_number_of_neighbors_to_consider = 20  # The MAXIMUM number of neighbors to take into account for aggregation.\n",
    "min_number_of_neighbors_to_consider = 1  # The minimum number of neighbors to take into account for aggregation.\n",
    "\n",
    "similarity_options = {\n",
    "   'name': \"cosine\",  # The name of the similarity measure to use.\n",
    "   'user_based': False,  # True ==> UserUser-CF, False ==> ItemItem-CF\n",
    "   'min_support': 3, # The minimum number of common items/users for the similarity not to be zero.\n",
    "}\n"
   ]
  },
  {
   "cell_type": "code",
   "execution_count": 59,
   "metadata": {},
   "outputs": [],
   "source": [
    "param_grid = { \"k\":[20,40,50], \"min_k\":[1,5],\n",
    "    \"sim_options\": {\n",
    "   'name': [\"cosine\"],  \n",
    "   'user_based': [True, False],  \n",
    "   'min_support': [3]}\n",
    "    }\n",
    "\n",
    "gs = GridSearchCV(KNNBasic, param_grid, measures=['rmse'], cv=3,n_jobs=-1) #all cpus are used\n",
    "gs.fit(data)"
   ]
  },
  {
   "cell_type": "code",
   "execution_count": 54,
   "metadata": {},
   "outputs": [
    {
     "name": "stdout",
     "output_type": "stream",
     "text": [
      "0.9862849933635193\n"
     ]
    }
   ],
   "source": [
    "# best RMSE score\n",
    "print(gs.best_score['rmse'])"
   ]
  },
  {
   "cell_type": "code",
   "execution_count": 61,
   "metadata": {},
   "outputs": [
    {
     "name": "stdout",
     "output_type": "stream",
     "text": [
      "Parameters: {'k': 20, 'min_k': 1, 'similarity_options': 'name'}\n"
     ]
    }
   ],
   "source": [
    "print('Parameters:',gs.best_params['rmse'])"
   ]
  },
  {
   "cell_type": "code",
   "execution_count": 55,
   "metadata": {},
   "outputs": [],
   "source": [
    "param_grid = { \"k\":[20,40,50], \"min_k\":[1,5],\n",
    "    \"sim_options\": {\n",
    "   'name': [\"cosine\"],  \n",
    "   'user_based': [True, False],  \n",
    "   'min_support': [3]}\n",
    "    }\n",
    "\n",
    "gs1 = RandomizedSearchCV(KNNBasic, param_grid, measures=['rmse'], cv=3,n_jobs=-1) #all cpus are used\n",
    "gs1.fit(data)"
   ]
  },
  {
   "cell_type": "code",
   "execution_count": 56,
   "metadata": {},
   "outputs": [
    {
     "name": "stdout",
     "output_type": "stream",
     "text": [
      "0.9868852011243888\n"
     ]
    }
   ],
   "source": [
    "print(gs1.best_score['rmse'])"
   ]
  }
 ],
 "metadata": {
  "kernelspec": {
   "display_name": "Python 3",
   "language": "python",
   "name": "python3"
  },
  "language_info": {
   "codemirror_mode": {
    "name": "ipython",
    "version": 3
   },
   "file_extension": ".py",
   "mimetype": "text/x-python",
   "name": "python",
   "nbconvert_exporter": "python",
   "pygments_lexer": "ipython3",
   "version": "3.8.5"
  }
 },
 "nbformat": 4,
 "nbformat_minor": 4
}
