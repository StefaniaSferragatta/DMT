{
 "cells": [
  {
   "cell_type": "code",
   "execution_count": 1,
   "metadata": {
    "collapsed": true,
    "pycharm": {
     "name": "#%%\n"
    }
   },
   "outputs": [],
   "source": [
    "import networkx as nx\n",
    "import csv\n",
    "import pprint as pp\n"
   ]
  },
  {
   "cell_type": "markdown",
   "source": [
    "###### graph creation"
   ],
   "metadata": {
    "collapsed": false,
    "pycharm": {
     "name": "#%% md\n"
    }
   }
  },
  {
   "cell_type": "code",
   "execution_count": 2,
   "outputs": [],
   "source": [
    "# graph creation function\n",
    "def graph_create_from_tsv(tsvFilePath):\n",
    "    # reading tsv file\n",
    "    input_file_handler = open(tsvFilePath, 'r', encoding=\"utf-8\")\n",
    "    tsv_reader = csv.reader(input_file_handler, delimiter='\\t')\n",
    "    tsv_reader.__next__()\n",
    "    list_adj = []\n",
    "    # inserting adjacent pokemon couples in a list\n",
    "    for pokemon in tsv_reader:\n",
    "        pokemon1 = pokemon[0]\n",
    "        pokemon2 = pokemon[1]\n",
    "        list_adj.append((pokemon1, pokemon2))\n",
    "    input_file_handler.close()\n",
    "\n",
    "    #creating graph\n",
    "    graph = nx.Graph()\n",
    "    graph.add_edges_from(list_adj)\n",
    "    return graph"
   ],
   "metadata": {
    "collapsed": false,
    "pycharm": {
     "name": "#%%\n"
    }
   }
  },
  {
   "cell_type": "markdown",
   "source": [
    "###### top k computation definition"
   ],
   "metadata": {
    "collapsed": false,
    "pycharm": {
     "name": "#%% md\n"
    }
   }
  },
  {
   "cell_type": "code",
   "execution_count": 3,
   "outputs": [],
   "source": [
    "def compute_top_k(map__node_id__score, remove_pkmn, k=20):\n",
    "    list__node_id__score = [(node_id, score) for node_id, score in map__node_id__score.items() if node_id not in remove_pkmn]\n",
    "    list__node_id__score.sort(key=lambda x: (-x[1], x[0]))\n",
    "    return list__node_id__score[:k]"
   ],
   "metadata": {
    "collapsed": false,
    "pycharm": {
     "name": "#%%\n"
    }
   }
  },
  {
   "cell_type": "markdown",
   "source": [
    "###### creation of the teleporting probability distribution for the selected topic"
   ],
   "metadata": {
    "collapsed": false,
    "pycharm": {
     "name": "#%% md\n"
    }
   }
  },
  {
   "cell_type": "code",
   "execution_count": 4,
   "outputs": [],
   "source": [
    "def prob_topic(graph, poke_topic):\n",
    "    num_nodes_topic = len(poke_topic)\n",
    "    # creating dictionary with keys the nodes of the graph, and values set to 0\n",
    "    d_topic_nodes = dict.fromkeys(list(graph.nodes), 0)\n",
    "    for pokemon in poke_topic:\n",
    "        d_topic_nodes[pokemon] = 1/num_nodes_topic\n",
    "    return d_topic_nodes"
   ],
   "metadata": {
    "collapsed": false,
    "pycharm": {
     "name": "#%%\n"
    }
   }
  },
  {
   "cell_type": "markdown",
   "source": [
    "##### starting code\n",
    "##### first given sets\n",
    "Set_A = set([\"Pikachu\"]) <br>\n",
    "Set_B = set([\"Venusaur\", \"Charizard\", \"Blastoise\"]) <br>\n",
    "Set_C = set([\"Excadrill\", \"Dracovish\", \"Whimsicott\", \"Milotic\"])"
   ],
   "metadata": {
    "collapsed": false,
    "pycharm": {
     "name": "#%% md\n"
    }
   }
  },
  {
   "cell_type": "code",
   "execution_count": 5,
   "outputs": [],
   "source": [
    "graph = graph_create_from_tsv('dataset/pkmn_graph_data.tsv')\n",
    "\n",
    "team_size = 6\n",
    "\n",
    "# given sets\n",
    "Set_A = set([\"Pikachu\"])\n",
    "Set_B = set([\"Venusaur\", \"Charizard\", \"Blastoise\"])\n",
    "Set_C = set([\"Excadrill\", \"Dracovish\", \"Whimsicott\", \"Milotic\"])\n",
    "\n",
    "sets = {'Set_A': Set_A,\n",
    "        'Set_B': Set_B,\n",
    "        'Set_C': Set_C\n",
    "}\n",
    "teams = {}"
   ],
   "metadata": {
    "collapsed": false,
    "pycharm": {
     "name": "#%%\n"
    }
   }
  },
  {
   "cell_type": "markdown",
   "source": [
    "#### Computation of the PageRank vector for given sets"
   ],
   "metadata": {
    "collapsed": false,
    "pycharm": {
     "name": "#%% md\n"
    }
   }
  },
  {
   "cell_type": "code",
   "execution_count": 6,
   "outputs": [
    {
     "name": "stdout",
     "output_type": "stream",
     "text": [
      "[('Gengar', 0.016487640693345462),\n",
      " ('Dragonite', 0.016010002128851935),\n",
      " (\"Sirfetch'd\", 0.01599150628957732),\n",
      " ('Kingdra', 0.015953347602938955),\n",
      " ('Lucario', 0.015876479354420946)]\n",
      "[('Dusclops', 0.008665975297740788),\n",
      " ('Urshifu', 0.008394906730815232),\n",
      " ('Torkoal', 0.006648512031539321)]\n",
      "[('Tyranitar', 0.00731484051799319), ('Cinderace', 0.006973637903344642)]\n"
     ]
    }
   ],
   "source": [
    "for key, val in sets.items():\n",
    "    topic_pers = prob_topic(graph, val)\n",
    "    map__node_id__node_pagerank_value = nx.pagerank(graph, alpha=0.33,\n",
    "                                                    personalization=topic_pers)\n",
    "    top_k__node_id__node_pagerank_value = compute_top_k(map__node_id__node_pagerank_value,\n",
    "                                                        remove_pkmn=val,\n",
    "                                                        k=team_size - len(val))\n",
    "    pp.pprint(top_k__node_id__node_pagerank_value)\n",
    "    teams['team_' + key[-1]] = set([i[0] for i in top_k__node_id__node_pagerank_value] + list(val))"
   ],
   "metadata": {
    "collapsed": false,
    "pycharm": {
     "name": "#%%\n"
    }
   }
  },
  {
   "cell_type": "markdown",
   "source": [
    "#### Printing sets of Pokemons with respective input sets from A to C"
   ],
   "metadata": {
    "collapsed": false,
    "pycharm": {
     "name": "#%% md\n"
    }
   }
  },
  {
   "cell_type": "code",
   "execution_count": 7,
   "outputs": [
    {
     "name": "stdout",
     "output_type": "stream",
     "text": [
      "Sets of Pokemons with Set_A\n",
      "{'Pikachu', 'Dragonite', 'Gengar', \"Sirfetch'd\", 'Lucario', 'Kingdra'}\n",
      "###########################\n",
      "Sets of Pokemons with Set_B\n",
      "{'Charizard', 'Urshifu', 'Venusaur', 'Dusclops', 'Torkoal', 'Blastoise'}\n",
      "###########################\n",
      "Sets of Pokemons with Set_C\n",
      "{'Dracovish', 'Cinderace', 'Tyranitar', 'Milotic', 'Whimsicott', 'Excadrill'}\n",
      "###########################\n",
      "###########################\n"
     ]
    }
   ],
   "source": [
    "print('Sets of Pokemons with Set_A')\n",
    "print(teams['team_A'])\n",
    "print('###########################')\n",
    "print('Sets of Pokemons with Set_B')\n",
    "print(teams['team_B'])\n",
    "print('###########################')\n",
    "print('Sets of Pokemons with Set_C')\n",
    "print(teams['team_C'])\n",
    "print('###########################')\n",
    "print('###########################')"
   ],
   "metadata": {
    "collapsed": false,
    "pycharm": {
     "name": "#%%\n"
    }
   }
  },
  {
   "cell_type": "markdown",
   "source": [
    "#### Same code, but with different given sets than before\n",
    "\n",
    "Set_1 = [\"Charizard\"] <br>\n",
    "Set_2 = [\"Venusaur\"] <br>\n",
    "Set_3 = [\"Kingdra\"] <br>\n",
    "Set_4 = set([\"Charizard\", \"Venusaur\"]) <br>\n",
    "Set_5 = set([\"Charizard\", \"Kingdra\"]) <br>\n",
    "Set_6 = set([\"Venusaur\", \"Kingdra\"]) <br>"
   ],
   "metadata": {
    "collapsed": false,
    "pycharm": {
     "name": "#%% md\n"
    }
   }
  },
  {
   "cell_type": "code",
   "execution_count": 8,
   "outputs": [],
   "source": [
    "Set_1 = [\"Charizard\"]\n",
    "Set_2 = [\"Venusaur\"]\n",
    "Set_3 = [\"Kingdra\"]\n",
    "Set_4 = set([\"Charizard\", \"Venusaur\"])\n",
    "Set_5 = set([\"Charizard\", \"Kingdra\"])\n",
    "Set_6 = set([\"Venusaur\", \"Kingdra\"])\n",
    "\n",
    "sets = {'Set_1': Set_1,\n",
    "        'Set_2': Set_2,\n",
    "        'Set_3': Set_3,\n",
    "        'Set_4': Set_4,\n",
    "        'Set_5': Set_5,\n",
    "        'Set_6': Set_6\n",
    "}\n",
    "teams = {}"
   ],
   "metadata": {
    "collapsed": false,
    "pycharm": {
     "name": "#%%\n"
    }
   }
  },
  {
   "cell_type": "code",
   "execution_count": 9,
   "outputs": [
    {
     "name": "stdout",
     "output_type": "stream",
     "text": [
      "[('Torkoal', 0.009326141035662906),\n",
      " ('Venusaur', 0.009097957694151023),\n",
      " ('Clefairy', 0.009030034219149143),\n",
      " ('Groudon', 0.008980365368672534),\n",
      " ('Grimmsnarl', 0.008872171170580347)]\n",
      "[('Torkoal', 0.009725189857536932),\n",
      " ('Dusclops', 0.008959547497020031),\n",
      " ('Charizard', 0.008794691285464033),\n",
      " ('Porygon2', 0.008640048209172064),\n",
      " ('Stakataka', 0.008629413684703267)]\n",
      "[('Politoed', 0.010453137370905956),\n",
      " ('Kyogre', 0.010290391347309004),\n",
      " ('Tornadus', 0.009756473037832985),\n",
      " ('Togedemaru', 0.009727794858781478),\n",
      " ('Tsareena', 0.009580057893446523)]\n",
      "[('Torkoal', 0.00952566544659992),\n",
      " ('Dusclops', 0.008760660793738552),\n",
      " ('Stakataka', 0.008748839693770511),\n",
      " ('Groudon', 0.008692699858267856)]\n",
      "[('Raichu', 0.008709148693346727),\n",
      " ('Bronzong', 0.008558796603759267),\n",
      " ('Sableye', 0.008489253192342639),\n",
      " ('Politoed', 0.005584803157233736)]\n",
      "[('Tapu Koko', 0.008638658279258127),\n",
      " ('Bronzong', 0.008480539740990126),\n",
      " ('Corviknight', 0.008476696218413945),\n",
      " ('Politoed', 0.005476971930695063)]\n"
     ]
    }
   ],
   "source": [
    "for key, val in sets.items():\n",
    "    topic_pers = prob_topic(graph, val)\n",
    "    map__node_id__node_pagerank_value = nx.pagerank(graph, alpha=0.33,\n",
    "                                                    personalization=topic_pers)\n",
    "    top_k__node_id__node_pagerank_value = compute_top_k(map__node_id__node_pagerank_value,\n",
    "                                                        remove_pkmn=val,\n",
    "                                                        k=team_size - len(val))\n",
    "    pp.pprint(top_k__node_id__node_pagerank_value)\n",
    "    teams['team_' + key[-1]] = set([i[0] for i in top_k__node_id__node_pagerank_value] + list(val))"
   ],
   "metadata": {
    "collapsed": false,
    "pycharm": {
     "name": "#%%\n"
    }
   }
  },
  {
   "cell_type": "code",
   "execution_count": 10,
   "outputs": [
    {
     "name": "stdout",
     "output_type": "stream",
     "text": [
      "Sets of Pokemons with Charizard\n",
      "{'Grimmsnarl', 'Charizard', 'Clefairy', 'Venusaur', 'Torkoal', 'Groudon'}\n",
      "###########################\n",
      "Sets of Pokemons with Venusaur\n",
      "{'Charizard', 'Venusaur', 'Porygon2', 'Torkoal', 'Stakataka', 'Dusclops'}\n",
      "###########################\n",
      "Sets of Pokemons with Kingdra\n",
      "{'Tornadus', 'Kyogre', 'Tsareena', 'Politoed', 'Togedemaru', 'Kingdra'}\n",
      "###########################\n",
      "Sets of Pokemons with Charizard and Venusaur\n",
      "{'Charizard', 'Venusaur', 'Dusclops', 'Torkoal', 'Stakataka', 'Groudon'}\n",
      "###########################\n",
      "Sets of Pokemons with Charizard and Kingdra\n",
      "{'Raichu', 'Charizard', 'Politoed', 'Bronzong', 'Sableye', 'Kingdra'}\n",
      "###########################\n",
      "Sets of Pokemons with Venusaur and Kingdra\n",
      "{'Tapu Koko', 'Politoed', 'Bronzong', 'Venusaur', 'Kingdra', 'Corviknight'}\n",
      "###########################\n",
      "###########################\n"
     ]
    }
   ],
   "source": [
    "print('Sets of Pokemons with Charizard')\n",
    "print(teams['team_1'])\n",
    "print('###########################')\n",
    "print('Sets of Pokemons with Venusaur')\n",
    "print(teams['team_2'])\n",
    "print('###########################')\n",
    "print('Sets of Pokemons with Kingdra')\n",
    "print(teams['team_3'])\n",
    "print('###########################')\n",
    "print('Sets of Pokemons with Charizard and Venusaur')\n",
    "print(teams['team_4'])\n",
    "print('###########################')\n",
    "print('Sets of Pokemons with Charizard and Kingdra')\n",
    "print(teams['team_5'])\n",
    "print('###########################')\n",
    "print('Sets of Pokemons with Venusaur and Kingdra')\n",
    "print(teams['team_6'])\n",
    "print('###########################')\n",
    "print('###########################')"
   ],
   "metadata": {
    "collapsed": false,
    "pycharm": {
     "name": "#%%\n"
    }
   }
  },
  {
   "cell_type": "code",
   "execution_count": 12,
   "outputs": [
    {
     "name": "stdout",
     "output_type": "stream",
     "text": [
      "Number of team members inside the Team(Charizard, Venusaur) that are neither in Team(Charizard) nor in Team(Venusaur)\n",
      "0\n",
      "###########################\n",
      "Number of team members inside the Team(Charizard, Kingdra) that are neither in Team(Charizard) nor in Team(Kingdra)\n",
      "3\n",
      "###########################\n",
      "Number of team members inside the Team(Venusaur, Kingdra) that are neither in Team(Venusaur) nor in Team(Kingdra)\n",
      "3\n",
      "###########################\n",
      "###########################\n"
     ]
    }
   ],
   "source": [
    "print('Number of team members inside the Team(Charizard, Venusaur) '\n",
    "      'that are neither in Team(Charizard) nor in Team(Venusaur)')\n",
    "print(len(teams['team_4'].difference(teams['team_1'].union(teams['team_2']))))\n",
    "print('###########################')\n",
    "print('Number of team members inside the Team(Charizard, Kingdra) '\n",
    "      'that are neither in Team(Charizard) nor in Team(Kingdra)')\n",
    "print(len(teams['team_5'].difference(teams['team_1'].union(teams['team_3']))))\n",
    "print('###########################')\n",
    "print('Number of team members inside the Team(Venusaur, Kingdra) '\n",
    "      'that are neither in Team(Venusaur) nor in Team(Kingdra)')\n",
    "print(len(teams['team_6'].difference(teams['team_2'].union(teams['team_3']))))\n",
    "print('###########################')\n",
    "print('###########################')"
   ],
   "metadata": {
    "collapsed": false,
    "pycharm": {
     "name": "#%%\n"
    }
   }
  }
 ],
 "metadata": {
  "kernelspec": {
   "display_name": "Python 3",
   "language": "python",
   "name": "python3"
  },
  "language_info": {
   "codemirror_mode": {
    "name": "ipython",
    "version": 2
   },
   "file_extension": ".py",
   "mimetype": "text/x-python",
   "name": "python",
   "nbconvert_exporter": "python",
   "pygments_lexer": "ipython2",
   "version": "2.7.6"
  }
 },
 "nbformat": 4,
 "nbformat_minor": 0
}